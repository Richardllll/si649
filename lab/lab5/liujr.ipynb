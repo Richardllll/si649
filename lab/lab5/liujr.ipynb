{
 "cells": [
  {
   "cell_type": "markdown",
   "metadata": {},
   "source": [
    "# **SI649 W25 Altair Theme Homework #3**\n",
    "\n",
    "# Overview\n",
    "\n",
    "\n",
    "We are focusing on **custom themes & small multiples** in this lab! For this assignment, we will be looking at *Star Wars* character dataset from [America’s Favorite ‘Star Wars’ Movies (And Least Favorite Characters)](https://fivethirtyeight.com/features/americas-favorite-star-wars-movies-and-least-favorite-characters/) by Walt Hickey.\n",
    "\n",
    "### Lab Instructions\n",
    "\n",
    "*   Save, rename, and submit the ipynb file (use your username in the name).\n",
    "*   Complete all the checkpoints, to create the required visualization at each cell\n",
    "*   Run every cell (do Runtime -> Restart and run all to make sure you have a clean working version), and upload your .ipynb file to Canvas.\n",
    "*   For each visualization, there is a space to write down a \"Grammar of Graphics\" plan, but this is optional for this assignment.\n",
    "*   If you end up stuck, show us your work by including links (URLs) that you have searched for. You'll get partial credit for showing your work in progress.\n"
   ]
  },
  {
   "cell_type": "code",
   "execution_count": 2,
   "metadata": {},
   "outputs": [],
   "source": [
    "# suppress warnings about future deprecations\n",
    "import warnings\n",
    "warnings.simplefilter(action='ignore', category=FutureWarning)\n",
    "\n",
    "# imports we will use\n",
    "import altair as alt\n",
    "import pandas as pd\n",
    "\n",
    "# for large data sets\n",
    "alt.data_transformers.disable_max_rows()\n",
    "\n",
    "# read in data\n",
    "df = pd.read_csv('https://scmcqueen.github.io/si649_hw/skyelerStarWars.csv',header=[0,1],skip_blank_lines=True)\n",
    "\n"
   ]
  },
  {
   "cell_type": "markdown",
   "metadata": {},
   "source": [
    "## Part 1: Character Rating Facet Charts\n",
    "\n",
    "Using an Altair Facet chart, recreate the 'Star Wars' Character Favorability Ratings chart from the [Star Wars article](https://fivethirtyeight.com/features/americas-favorite-star-wars-movies-and-least-favorite-characters/). It should look like this:\n",
    "\n",
    "<img src=\"https://scmcqueen.github.io/si649_hw/favorability_SW.png\" height=\"300\">"
   ]
  },
  {
   "cell_type": "markdown",
   "metadata": {},
   "source": [
    "### Step 1: Get data in the correct format\n",
    "We will get this started for you"
   ]
  },
  {
   "cell_type": "code",
   "execution_count": 1,
   "metadata": {},
   "outputs": [
    {
     "ename": "NameError",
     "evalue": "name 'pd' is not defined",
     "output_type": "error",
     "traceback": [
      "\u001b[0;31m---------------------------------------------------------------------------\u001b[0m",
      "\u001b[0;31mNameError\u001b[0m                                 Traceback (most recent call last)",
      "Cell \u001b[0;32mIn[1], line 2\u001b[0m\n\u001b[1;32m      1\u001b[0m \u001b[38;5;66;03m# Read in the data with Character name & review\u001b[39;00m\n\u001b[0;32m----> 2\u001b[0m download \u001b[38;5;241m=\u001b[39m \u001b[43mpd\u001b[49m\u001b[38;5;241m.\u001b[39mread_csv(\u001b[38;5;124m'\u001b[39m\u001b[38;5;124mhttps://scmcqueen.github.io/si649_hw/reviews_by_char.csv\u001b[39m\u001b[38;5;124m'\u001b[39m,index_col\u001b[38;5;241m=\u001b[39m\u001b[38;5;241m0\u001b[39m)\n\u001b[1;32m      3\u001b[0m download\u001b[38;5;241m.\u001b[39mhead()\n",
      "\u001b[0;31mNameError\u001b[0m: name 'pd' is not defined"
     ]
    }
   ],
   "source": [
    "# Read in the data with Character name & review\n",
    "download = pd.read_csv('https://scmcqueen.github.io/si649_hw/reviews_by_char.csv',index_col=0)\n",
    "download.head()"
   ]
  },
  {
   "cell_type": "code",
   "execution_count": null,
   "metadata": {},
   "outputs": [],
   "source": [
    "# TODO: Map the 'rating' column to a new column that matches the chart's Favorable, Unfavorable, etc."
   ]
  },
  {
   "cell_type": "code",
   "execution_count": null,
   "metadata": {},
   "outputs": [],
   "source": [
    "# TODO: in Pandas, get the percent of each rating per character"
   ]
  },
  {
   "cell_type": "markdown",
   "metadata": {},
   "source": [
    "### Step 2: Create your charts\n",
    "\n",
    "\n",
    "Hints:\n",
    "* Layer the charts before faceting!"
   ]
  },
  {
   "cell_type": "code",
   "execution_count": null,
   "metadata": {},
   "outputs": [],
   "source": [
    "# TODO: Using a facet chart, recreate the article"
   ]
  },
  {
   "cell_type": "markdown",
   "metadata": {},
   "source": [
    "## Part 2: Star Wars Theme\n",
    "\n",
    "### Step 1: Create Star Wars Theme\n",
    "\n",
    "We want you to try implementing a custom theme in Altair based on this style guide:\n",
    "\n",
    "<img src=\"https://scmcqueen.github.io/si649_hw/StarWars_StyleGuide.png\" height=\"600\">\n",
    "\n",
    "We will give you some starter code, so you aren't creating a theme fully from scratch. The Altair documentation on [Chart Customization](https://altair-viz.github.io/user_guide/customization.html) and this Towards Data Science Article [Consistently Beautiful Visualizations with Altair Themes](https://medium.com/towards-data-science/consistently-beautiful-visualizations-with-altair-themes-c7f9f889602) should serve as helpful guides.\n",
    "\n",
    "You can set the spacing, color palettes, font schemes, etc."
   ]
  },
  {
   "cell_type": "markdown",
   "metadata": {},
   "source": [
    "Run the cell below to get the font you need."
   ]
  },
  {
   "cell_type": "code",
   "execution_count": null,
   "metadata": {},
   "outputs": [
    {
     "data": {
      "text/html": [
       "\n",
       "<style>\n",
       "@import url('https://fonts.googleapis.com/css?family=Lato');\n",
       "</style>\n"
      ],
      "text/plain": [
       "<IPython.core.display.HTML object>"
      ]
     },
     "metadata": {},
     "output_type": "display_data"
    }
   ],
   "source": [
    "%%html\n",
    "\n",
    "<style>\n",
    "@import url('https://fonts.googleapis.com/css?family=Lato');\n",
    "</style>"
   ]
  },
  {
   "cell_type": "code",
   "execution_count": null,
   "metadata": {},
   "outputs": [],
   "source": [
    "# TO DO: Modify this code to fit the above style guide\n",
    "@alt.theme.register(\"star_wars\", enable=True) # Comment this line out for Altair 5.2\n",
    "# the theme is defined as a function\n",
    "def star_wars_solution():\n",
    "    # you can set variables here and reuse later in the function\n",
    "    font = \"Lato\"\n",
    "    backgroundColor = None\n",
    "\n",
    "    return {\n",
    "        \"config\": {\n",
    "            \"title\": {\n",
    "                \"anchor\": \"start\",\n",
    "            },\n",
    "            \"axisX\": {\n",
    "               \"domain\": True,\n",
    "           },\n",
    "           \"axisY\": {\n",
    "               \"domain\": False,\n",
    "           },\n",
    "           \"background\": backgroundColor,\n",
    "           \"view\": {\n",
    "               \"stroke\": \"transparent\",\n",
    "           },\n",
    "           \"range\": {\n",
    "            #add code\n",
    "           },\n",
    "           \"area\": {\n",
    "           },\n",
    "           \"line\": {\n",
    "           },\n",
    "           \"point\": {\n",
    "           },\n",
    "           \"text\": {\n",
    "           },\n",
    "           \"bar\": {\n",
    "            },\n",
    "       },\n",
    "    }\n",
    "\n",
    "# For Altair version 5.2, uncomment the lines below\n",
    "# alt.themes.register('star_wars', star_wars_solution)\n",
    "# # enable the newly registered theme\n",
    "# alt.themes.enable('star_wars')"
   ]
  },
  {
   "cell_type": "markdown",
   "metadata": {},
   "source": [
    "### Step 2: Recreate Favorability Chart with new theme\n",
    "\n",
    "To check that your theme looks correct, recreate your chart of Star Wars characters favorability. If your theme is enabled correctly, the visualization should look like this:\n",
    "\n",
    "<img src=\"https://scmcqueen.github.io/si649_hw/favorability_SW_theme.png\" height=\"300\">"
   ]
  },
  {
   "cell_type": "code",
   "execution_count": null,
   "metadata": {},
   "outputs": [],
   "source": [
    "# TODO: Copy code from above for facet chart"
   ]
  },
  {
   "cell_type": "markdown",
   "metadata": {},
   "source": [
    "### Step 3: Recreate the following charts to test your theme\n",
    "\n",
    "#### Chart 1: Favorable Ratings by Number of Ratings\n",
    "\n",
    "<img src=\"https://scmcqueen.github.io/si649_hw/favorable.png\" height=\"300\">"
   ]
  },
  {
   "cell_type": "code",
   "execution_count": null,
   "metadata": {},
   "outputs": [],
   "source": [
    "# TODO: Create favorability chart"
   ]
  },
  {
   "cell_type": "markdown",
   "metadata": {},
   "source": [
    "#### Chart 2: Who shot first?\n",
    "\n",
    "<img src=\"https://scmcqueen.github.io/si649_hw/shot_first.png\" height=\"150\">"
   ]
  },
  {
   "cell_type": "code",
   "execution_count": null,
   "metadata": {},
   "outputs": [
    {
     "data": {
      "text/html": [
       "<div>\n",
       "<style scoped>\n",
       "    .dataframe tbody tr th:only-of-type {\n",
       "        vertical-align: middle;\n",
       "    }\n",
       "\n",
       "    .dataframe tbody tr th {\n",
       "        vertical-align: top;\n",
       "    }\n",
       "\n",
       "    .dataframe thead th {\n",
       "        text-align: right;\n",
       "    }\n",
       "</style>\n",
       "<table border=\"1\" class=\"dataframe\">\n",
       "  <thead>\n",
       "    <tr style=\"text-align: right;\">\n",
       "      <th></th>\n",
       "      <th>shooter</th>\n",
       "    </tr>\n",
       "  </thead>\n",
       "  <tbody>\n",
       "    <tr>\n",
       "      <th>0</th>\n",
       "      <td>I don't understand this question</td>\n",
       "    </tr>\n",
       "    <tr>\n",
       "      <th>2</th>\n",
       "      <td>I don't understand this question</td>\n",
       "    </tr>\n",
       "    <tr>\n",
       "      <th>3</th>\n",
       "      <td>I don't understand this question</td>\n",
       "    </tr>\n",
       "    <tr>\n",
       "      <th>4</th>\n",
       "      <td>Greedo</td>\n",
       "    </tr>\n",
       "    <tr>\n",
       "      <th>5</th>\n",
       "      <td>Han</td>\n",
       "    </tr>\n",
       "  </tbody>\n",
       "</table>\n",
       "</div>"
      ],
      "text/plain": [
       "                            shooter\n",
       "0  I don't understand this question\n",
       "2  I don't understand this question\n",
       "3  I don't understand this question\n",
       "4                            Greedo\n",
       "5                               Han"
      ]
     },
     "execution_count": 19,
     "metadata": {},
     "output_type": "execute_result"
    }
   ],
   "source": [
    "# read in shooting data\n",
    "shot_first = pd.read_csv('https://scmcqueen.github.io/si649_hw/shot_first.csv',index_col=0)\n",
    "shot_first.head()"
   ]
  },
  {
   "cell_type": "code",
   "execution_count": null,
   "metadata": {},
   "outputs": [],
   "source": [
    "# TODO: Recreate chart"
   ]
  },
  {
   "cell_type": "markdown",
   "metadata": {},
   "source": [
    "## Part 3: Repeat Chart of Movies Seen by Key Demographics\n",
    "\n",
    "Recreate this chart using .repeat()\n",
    "\n",
    "<img src=\"https://scmcqueen.github.io/si649_hw/movies_demo.png\" height=\"300\">"
   ]
  },
  {
   "cell_type": "code",
   "execution_count": null,
   "metadata": {},
   "outputs": [
    {
     "data": {
      "text/html": [
       "<div>\n",
       "<style scoped>\n",
       "    .dataframe tbody tr th:only-of-type {\n",
       "        vertical-align: middle;\n",
       "    }\n",
       "\n",
       "    .dataframe tbody tr th {\n",
       "        vertical-align: top;\n",
       "    }\n",
       "\n",
       "    .dataframe thead th {\n",
       "        text-align: right;\n",
       "    }\n",
       "</style>\n",
       "<table border=\"1\" class=\"dataframe\">\n",
       "  <thead>\n",
       "    <tr style=\"text-align: right;\">\n",
       "      <th></th>\n",
       "      <th>Age</th>\n",
       "      <th>Gender</th>\n",
       "      <th>Do you consider yourself to be a fan of the Star Wars film franchise?</th>\n",
       "      <th>movies_seen</th>\n",
       "    </tr>\n",
       "  </thead>\n",
       "  <tbody>\n",
       "    <tr>\n",
       "      <th>2</th>\n",
       "      <td>18-29</td>\n",
       "      <td>Male</td>\n",
       "      <td>No</td>\n",
       "      <td>3</td>\n",
       "    </tr>\n",
       "    <tr>\n",
       "      <th>3</th>\n",
       "      <td>18-29</td>\n",
       "      <td>Male</td>\n",
       "      <td>Yes</td>\n",
       "      <td>6</td>\n",
       "    </tr>\n",
       "    <tr>\n",
       "      <th>4</th>\n",
       "      <td>18-29</td>\n",
       "      <td>Male</td>\n",
       "      <td>Yes</td>\n",
       "      <td>6</td>\n",
       "    </tr>\n",
       "    <tr>\n",
       "      <th>5</th>\n",
       "      <td>18-29</td>\n",
       "      <td>Male</td>\n",
       "      <td>Yes</td>\n",
       "      <td>6</td>\n",
       "    </tr>\n",
       "    <tr>\n",
       "      <th>8</th>\n",
       "      <td>18-29</td>\n",
       "      <td>Male</td>\n",
       "      <td>Yes</td>\n",
       "      <td>6</td>\n",
       "    </tr>\n",
       "  </tbody>\n",
       "</table>\n",
       "</div>"
      ],
      "text/plain": [
       "     Age Gender  \\\n",
       "2  18-29   Male   \n",
       "3  18-29   Male   \n",
       "4  18-29   Male   \n",
       "5  18-29   Male   \n",
       "8  18-29   Male   \n",
       "\n",
       "  Do you consider yourself to be a fan of the Star Wars film franchise?  \\\n",
       "2                                                 No                      \n",
       "3                                                Yes                      \n",
       "4                                                Yes                      \n",
       "5                                                Yes                      \n",
       "8                                                Yes                      \n",
       "\n",
       "   movies_seen  \n",
       "2            3  \n",
       "3            6  \n",
       "4            6  \n",
       "5            6  \n",
       "8            6  "
      ]
     },
     "execution_count": 21,
     "metadata": {},
     "output_type": "execute_result"
    }
   ],
   "source": [
    "# read in the formatted data\n",
    "x = pd.read_csv('https://scmcqueen.github.io/si649_hw/movies_demo.csv',index_col=0)\n",
    "x.head()"
   ]
  },
  {
   "cell_type": "code",
   "execution_count": null,
   "metadata": {},
   "outputs": [],
   "source": [
    "# TODO: Build your repeat chart"
   ]
  },
  {
   "cell_type": "markdown",
   "metadata": {},
   "source": [
    "## Part 4: Make your own theme!\n",
    "\n",
    "Make your own theme. This is your opportunity to be creative and define a consistent, reusable style. The theme must be significantly different than the Star Wars one above. The more unique, the better!\n",
    "\n",
    "To get full points, you must:\n",
    "* Create at least 3 color schemes for your theme\n",
    "* Choose a new font for your theme\n",
    "* Change the default font sizes\n",
    "* Set a new default mark color\n",
    "* Choose to enable or disable grid lines\n",
    "* Change the default padding of the titles\n",
    "\n",
    "You can choose one of the themes from [this list of Data Visualization Style Guidelines](https://docs.google.com/spreadsheets/d/1F1gm5QLXh3USC8ZFx_M9TXYxmD-X5JLDD0oJATRTuIE/edit?gid=1679646668#gid=1679646668) as a starting point. To generate interesting color palettes, you can use sites like [Coolors](https://coolors.co/), [Canva](https://www.canva.com/colors/color-palette-generator/), or [ColorMagic](https://colormagic.app/)."
   ]
  },
  {
   "cell_type": "code",
   "execution_count": null,
   "metadata": {},
   "outputs": [],
   "source": [
    "# insert theme"
   ]
  },
  {
   "cell_type": "markdown",
   "metadata": {},
   "source": [
    "### Recreate all of the charts from above in your theme!"
   ]
  },
  {
   "cell_type": "code",
   "execution_count": null,
   "metadata": {},
   "outputs": [],
   "source": [
    "# insert facet chart"
   ]
  },
  {
   "cell_type": "code",
   "execution_count": null,
   "metadata": {},
   "outputs": [],
   "source": [
    "# insert scatter plot"
   ]
  },
  {
   "cell_type": "code",
   "execution_count": null,
   "metadata": {},
   "outputs": [],
   "source": [
    "# insert 'who shot first' chart"
   ]
  },
  {
   "cell_type": "code",
   "execution_count": null,
   "metadata": {},
   "outputs": [],
   "source": [
    "# insert repeat chart"
   ]
  },
  {
   "cell_type": "markdown",
   "metadata": {},
   "source": [
    "## Part 5: Upload one of your charts to a github page\n",
    "\n",
    "Choose one of the four charts above (in your own style) and export it as an html, using `chart.save('alt_theme.html')`.\n",
    "\n",
    "Open the html file using any text editor, and add a link to the data you used for this chart, by adding a line of HTML to the body (i.e., between the `<body>` and `</body>` tags); something like `<a href=\"link\">Data</a>`, where \"link\" is the URL for the data. This link to the data should appear on your html page.\n",
    "\n",
    "Using the same process as we used for the matplotlib assignment, upload your html page to github, such that it is accessible on github pages, and insert the link to your page below:\n"
   ]
  },
  {
   "cell_type": "markdown",
   "metadata": {},
   "source": [
    "TODO: ```Insert your link here```"
   ]
  },
  {
   "cell_type": "markdown",
   "metadata": {},
   "source": [
    "Finally, open the link, and verify that you are able to download the data using the link that you added. \n",
    "\n",
    "Next, click on the three dots at the upper right of the plot, and click on \"View Source\". Note that this plot thus supports some basic interaction, even though this is a static html page. \n",
    "\n",
    "After clicking \"View Source\", copy the plot's source description and paste it below:\n"
   ]
  },
  {
   "cell_type": "markdown",
   "metadata": {},
   "source": [
    "TODO: ```Paste the plot source here```"
   ]
  },
  {
   "cell_type": "code",
   "execution_count": null,
   "metadata": {},
   "outputs": [],
   "source": []
  }
 ],
 "metadata": {
  "kernelspec": {
   "display_name": ".venv",
   "language": "python",
   "name": "python3"
  },
  "language_info": {
   "codemirror_mode": {
    "name": "ipython",
    "version": 3
   },
   "file_extension": ".py",
   "mimetype": "text/x-python",
   "name": "python",
   "nbconvert_exporter": "python",
   "pygments_lexer": "ipython3",
   "version": "3.12.5"
  }
 },
 "nbformat": 4,
 "nbformat_minor": 4
}
