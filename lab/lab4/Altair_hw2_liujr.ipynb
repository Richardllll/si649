{
 "cells": [
  {
   "cell_type": "markdown",
   "metadata": {
    "id": "NyQLJOOB1W7m"
   },
   "source": [
    "# **SI649 W25 Altair Homework #2**\n",
    "\n",
    "# Overview\n",
    "\n",
    "For this assignment we will be using Alex Pietrick's [Book Publishing Dataset](https://gist.github.com/apietrick24/bfffc6c0d47abf00029790381e89626d#file-bookpublishingdata-csv). We used a subset of this data that only focuses on the most recent 20 years, in the file 'bookData_limited.csv'.\n",
    "\n",
    "We are focusing on **transformation** in this lab!\n",
    "\n",
    "### Lab Instructions\n",
    "\n",
    "*   Save, rename, and submit the ipynb file (use your username in the name).\n",
    "*   Complete all the checkpoints, to create the required visualization at each cell\n",
    "*   Run every cell (do Runtime -> Restart and run all to make sure you have a clean working version), and upload your .ipynb file to Canvas.\n",
    "*   For each visualization, there is a space to write down a \"Grammar of Graphics\" plan, but this is optional for this assignment.\n",
    "*   If you end up stuck, show us your work by including links (URLs) that you have searched for. You'll get partial credit for showing your work in progress.\n"
   ]
  },
  {
   "cell_type": "code",
   "execution_count": 2,
   "metadata": {
    "id": "xOT0f97qxt1c"
   },
   "outputs": [],
   "source": [
    "# suppress warnings about future deprecations\n",
    "import warnings\n",
    "warnings.simplefilter(action='ignore', category=FutureWarning)\n",
    "\n",
    "# imports we will use\n",
    "import altair as alt\n",
    "import pandas as pd\n",
    "# for large data sets\n",
    "alt.data_transformers.disable_max_rows()\n",
    "\n",
    "# read in data\n",
    "book_data=pd.read_csv('https://scmcqueen.github.io/si649_hw/bookData_limited.csv',index_col=0)\n"
   ]
  },
  {
   "cell_type": "code",
   "execution_count": 3,
   "metadata": {
    "colab": {
     "base_uri": "https://localhost:8080/",
     "height": 363
    },
    "id": "bDiC7ShYxwNJ",
    "outputId": "c17fca9f-78ef-4860-c78e-25c0d228426c"
   },
   "outputs": [
    {
     "data": {
      "text/html": [
       "<div>\n",
       "<style scoped>\n",
       "    .dataframe tbody tr th:only-of-type {\n",
       "        vertical-align: middle;\n",
       "    }\n",
       "\n",
       "    .dataframe tbody tr th {\n",
       "        vertical-align: top;\n",
       "    }\n",
       "\n",
       "    .dataframe thead th {\n",
       "        text-align: right;\n",
       "    }\n",
       "</style>\n",
       "<table border=\"1\" class=\"dataframe\">\n",
       "  <thead>\n",
       "    <tr style=\"text-align: right;\">\n",
       "      <th></th>\n",
       "      <th>Publishing_Year</th>\n",
       "      <th>Book_Name</th>\n",
       "      <th>Author</th>\n",
       "      <th>Language_Code</th>\n",
       "      <th>Author_Rating</th>\n",
       "      <th>Book_Average_Rating</th>\n",
       "      <th>Book_Ratings_Count</th>\n",
       "      <th>Genre</th>\n",
       "      <th>Publisher_Revenue</th>\n",
       "      <th>Sale_Price</th>\n",
       "      <th>Sale_Rank</th>\n",
       "      <th>Publisher</th>\n",
       "      <th>Units_Sold</th>\n",
       "      <th>Sale_Disc</th>\n",
       "    </tr>\n",
       "  </thead>\n",
       "  <tbody>\n",
       "    <tr>\n",
       "      <th>713</th>\n",
       "      <td>2009.0</td>\n",
       "      <td>Wintergirls</td>\n",
       "      <td>Laurie Halse Anderson</td>\n",
       "      <td>eng</td>\n",
       "      <td>Intermediate</td>\n",
       "      <td>3.98</td>\n",
       "      <td>87665</td>\n",
       "      <td>genre fiction</td>\n",
       "      <td>0.000</td>\n",
       "      <td>2.99</td>\n",
       "      <td>819</td>\n",
       "      <td>Amazon Digital Services,  Inc.</td>\n",
       "      <td>34992</td>\n",
       "      <td>104626.08</td>\n",
       "    </tr>\n",
       "    <tr>\n",
       "      <th>36</th>\n",
       "      <td>2011.0</td>\n",
       "      <td>The Language of Flowers</td>\n",
       "      <td>Vanessa Diffenbaugh</td>\n",
       "      <td>eng</td>\n",
       "      <td>Intermediate</td>\n",
       "      <td>4.07</td>\n",
       "      <td>140076</td>\n",
       "      <td>genre fiction</td>\n",
       "      <td>1178.496</td>\n",
       "      <td>0.99</td>\n",
       "      <td>36</td>\n",
       "      <td>Amazon Digital Services,  Inc.</td>\n",
       "      <td>1984</td>\n",
       "      <td>1964.16</td>\n",
       "    </tr>\n",
       "    <tr>\n",
       "      <th>300</th>\n",
       "      <td>2008.0</td>\n",
       "      <td>Lock and Key</td>\n",
       "      <td>Sarah Dessen</td>\n",
       "      <td>eng</td>\n",
       "      <td>Excellent</td>\n",
       "      <td>4.01</td>\n",
       "      <td>120475</td>\n",
       "      <td>nonfiction</td>\n",
       "      <td>531.024</td>\n",
       "      <td>2.99</td>\n",
       "      <td>322</td>\n",
       "      <td>Amazon Digital Services,  Inc.</td>\n",
       "      <td>296</td>\n",
       "      <td>885.04</td>\n",
       "    </tr>\n",
       "    <tr>\n",
       "      <th>362</th>\n",
       "      <td>2002.0</td>\n",
       "      <td>é‹¼ã®éŒ¬é‡‘è¡“å¸« 1</td>\n",
       "      <td>Hiromu Arakawa, Akira Watanabe</td>\n",
       "      <td>eng</td>\n",
       "      <td>Famous</td>\n",
       "      <td>4.49</td>\n",
       "      <td>93990</td>\n",
       "      <td>genre fiction</td>\n",
       "      <td>0.000</td>\n",
       "      <td>0.99</td>\n",
       "      <td>391</td>\n",
       "      <td>Amazon Digital Services,  Inc.</td>\n",
       "      <td>6183</td>\n",
       "      <td>6121.17</td>\n",
       "    </tr>\n",
       "    <tr>\n",
       "      <th>462</th>\n",
       "      <td>2012.0</td>\n",
       "      <td>Tell the Wolves I'm Home</td>\n",
       "      <td>Carol Rifka Brunt</td>\n",
       "      <td>eng</td>\n",
       "      <td>Excellent</td>\n",
       "      <td>4.04</td>\n",
       "      <td>85582</td>\n",
       "      <td>genre fiction</td>\n",
       "      <td>0.000</td>\n",
       "      <td>1.99</td>\n",
       "      <td>514</td>\n",
       "      <td>Amazon Digital Services,  Inc.</td>\n",
       "      <td>4617</td>\n",
       "      <td>9187.83</td>\n",
       "    </tr>\n",
       "  </tbody>\n",
       "</table>\n",
       "</div>"
      ],
      "text/plain": [
       "     Publishing_Year                 Book_Name  \\\n",
       "713           2009.0               Wintergirls   \n",
       "36            2011.0   The Language of Flowers   \n",
       "300           2008.0              Lock and Key   \n",
       "362           2002.0      é‹¼ã®éŒ¬é‡‘è¡“å¸« 1   \n",
       "462           2012.0  Tell the Wolves I'm Home   \n",
       "\n",
       "                             Author Language_Code Author_Rating  \\\n",
       "713           Laurie Halse Anderson           eng  Intermediate   \n",
       "36              Vanessa Diffenbaugh           eng  Intermediate   \n",
       "300                    Sarah Dessen           eng     Excellent   \n",
       "362  Hiromu Arakawa, Akira Watanabe           eng        Famous   \n",
       "462               Carol Rifka Brunt           eng     Excellent   \n",
       "\n",
       "     Book_Average_Rating  Book_Ratings_Count          Genre  \\\n",
       "713                 3.98               87665  genre fiction   \n",
       "36                  4.07              140076  genre fiction   \n",
       "300                 4.01              120475     nonfiction   \n",
       "362                 4.49               93990  genre fiction   \n",
       "462                 4.04               85582  genre fiction   \n",
       "\n",
       "     Publisher_Revenue  Sale_Price  Sale_Rank                       Publisher  \\\n",
       "713              0.000        2.99        819  Amazon Digital Services,  Inc.   \n",
       "36            1178.496        0.99         36  Amazon Digital Services,  Inc.   \n",
       "300            531.024        2.99        322  Amazon Digital Services,  Inc.   \n",
       "362              0.000        0.99        391  Amazon Digital Services,  Inc.   \n",
       "462              0.000        1.99        514  Amazon Digital Services,  Inc.   \n",
       "\n",
       "     Units_Sold  Sale_Disc  \n",
       "713       34992  104626.08  \n",
       "36         1984    1964.16  \n",
       "300         296     885.04  \n",
       "362        6183    6121.17  \n",
       "462        4617    9187.83  "
      ]
     },
     "execution_count": 3,
     "metadata": {},
     "output_type": "execute_result"
    }
   ],
   "source": [
    "# look at a sample of the data\n",
    "book_data.sample(5)"
   ]
  },
  {
   "cell_type": "markdown",
   "metadata": {
    "id": "sYTGzoF1NxaH"
   },
   "source": [
    "## Visualization 1: Top 30 books published in 2014 with most ratings"
   ]
  },
  {
   "cell_type": "markdown",
   "metadata": {
    "id": "uUhlxl10Oi_A"
   },
   "source": [
    "<img src=\"https://scmcqueen.github.io/si649_hw/most_rated_books.png\" height=\"600\">\n",
    "\n",
    "**Description of the visualization:**\n",
    "\n",
    "We want to find books published in 2014 with the most ratings. We'd like to build a bar chart with the top 30 books ranked by the number of ratings.\n",
    "\n",
    "* Book ratings count is plotted on the X axis\n",
    "* Book title (name) is displayed on the y axis\n",
    "* Author rating is represented by color\n",
    "* Only the top 30 books with most ratings are included in the chart\n",
    "* Only books published in 2014 are included in this chart\n"
   ]
  },
  {
   "cell_type": "markdown",
   "metadata": {
    "id": "rI28VUgTUzkl"
   },
   "source": [
    "### Step 1: Write down your plan for the visualization (optional)\n",
    "\n",
    "TODO: edit this cell to write your visualization plan. You can write in altair syntax, in full sentence, or in bullet points, whichever way that helps you to plan your chart.\n",
    "\n",
    "* Describe the mark type:\n",
    "    *  TODO: your answer here  \n",
    "* Describe the encoding rules:\n",
    "    * TODO: your answer here  \n",
    "* Describe the transformations:\n",
    "    * TODO: your answer here  "
   ]
  },
  {
   "cell_type": "markdown",
   "metadata": {
    "id": "6N7ggUR9V_k8"
   },
   "source": [
    "#### Hints\n",
    "* You need to filter by year before ranking. You can do this within the chart, without using Pandas.\n",
    "\n",
    "* You need to rank books by number of ratings. Review our lab demo and the Altair documentation. Which transformation can generate the rank?\n",
    "\n",
    "* Because we only want to include the top 30 books, which transformation can we use?\n"
   ]
  },
  {
   "cell_type": "markdown",
   "metadata": {
    "id": "yNykD-CkYjE6"
   },
   "source": [
    "### Step 2: Create your chart. \n",
    "Please paste your FINAL answer to the cell immediately blow this block (it will allow us to grade). You can search for the keyword \"TODO\" to locate cells that need your edits\n"
   ]
  },
  {
   "cell_type": "code",
   "execution_count": 4,
   "metadata": {
    "id": "oZPyuiTlaEMd"
   },
   "outputs": [],
   "source": [
    "# TODO: the 30 books published in 2014 with the most ratings"
   ]
  },
  {
   "cell_type": "markdown",
   "metadata": {
    "id": "ovVAQk8jabP_"
   },
   "source": [
    "## Visualization 2: Compare the Sale Price and Revenue per Book of books by Author Rating, for books of an average rating of 4 or higher"
   ]
  },
  {
   "cell_type": "markdown",
   "metadata": {
    "id": "f27367gEcr6A"
   },
   "source": [
    "<img src=\"https://scmcqueen.github.io/si649_hw/revenue_price.png\" height=\"600\">\n",
    "\n",
    "\n",
    "**Description of data:**\n",
    "* Revenue per book is the publisher revenue divided by the number of units (books) sold\n",
    "\n",
    "**Description of the visualization:**\n",
    "We want to compare the average sale price and revenue per book of books with excellent, famous, and intermediate author ratings for books with average rating of 4 or higher. (It turns out no books by Novice writers meet this criterion).\n",
    "\n",
    "* Chart 1 has the year on the x axis and average revenue per book sold on the y axis.\n",
    "* Chart 2 has year on the x axis and mean sale price on the y axis."
   ]
  },
  {
   "cell_type": "markdown",
   "metadata": {
    "id": "vDDeZ5qChYg-"
   },
   "source": [
    "### Step 1: Write down your plan for the visualization (optional)\n",
    "\n",
    "TODO: edit this cell to write your visualization plan. You can write in altair syntax, in full sentence, or in bullet points, whichever way that helps you to plan your chart.\n",
    "\n",
    "**Chart 1**\n",
    "\n",
    "* Describe the mark here:\n",
    "    * TODO: your answer here  \n",
    "* Describe the encoding rules:\n",
    "    * TODO: your answer here  \n",
    "* Describe the transformations:\n",
    "    * TODO: your answer here  \n",
    "\n",
    "**Chart 2**\n",
    "\n",
    "* Describe the mark here:\n",
    "    * TODO: your answer here  \n",
    "* Describe the encoding rules:\n",
    "    * TODO: your answer here  \n",
    "* Describe the transformations:\n",
    "    * TODO: your answer here  "
   ]
  },
  {
   "cell_type": "markdown",
   "metadata": {
    "id": "UONT3gSvfzPd"
   },
   "source": [
    "### Hints\n",
    "\n",
    "1. Do you want to use joinaggregate or aggregate?\n",
    "2. How can you produce a calculated/aggregated value within a group?\n",
    "3. Make sure that both charts share the same y axis.\n",
    "4. Don't forget that we only want books with an average rating of 4 or higher."
   ]
  },
  {
   "cell_type": "markdown",
   "metadata": {
    "id": "b2QfqgC6h8CQ"
   },
   "source": [
    "### Step 2: Create your chart. \n",
    "Please paste your FINAL answer to the cell immediately blow this block (it will allow us to grade). You can search for the keyword \"TODO\" to locate cells that need your edits"
   ]
  },
  {
   "cell_type": "code",
   "execution_count": 5,
   "metadata": {
    "id": "q3xGgenFiL8u"
   },
   "outputs": [],
   "source": [
    "# TODO: Replicate vis 2\n"
   ]
  },
  {
   "cell_type": "markdown",
   "metadata": {
    "id": "izs_Zq6VoRHV"
   },
   "source": [
    "## Visualization 3: Bar charts with average book rating and units sold by publisher for English language books versus other language books"
   ]
  },
  {
   "cell_type": "markdown",
   "metadata": {
    "id": "RMysffSnor-5"
   },
   "source": [
    "<img src=\"https://scmcqueen.github.io/si649_hw/four_charts.png\" height=\"400\">\n",
    "\n",
    "**Description of this visualization:**\n",
    "We want to contrast the mean ratings and mean units sold per publisher, to contrast English language books and other language books.\n",
    "\n",
    "Top row:\n",
    "* Plot a bar chart for English language books, using publisher and mean of book average rating.\n",
    "* Plot a similar bar chart for non-English languages.\n",
    "    * Be sure to exclude 'null' language books from both charts.\n",
    "* Encode mean of average book rating as color.\n",
    "\n",
    "Bottom row:\n",
    "* Plot a bar chart for English language books, with publisher and mean of units sold.\n",
    "* Plot a similar bar chart for non-English languages.\n",
    "    * Be sure to exclude 'null' language books from both charts.\n",
    "* Encode mean of average units sold as color.\n",
    "\n",
    "Combine the charts!\n",
    "\n",
    "\n",
    "### Hints\n",
    "* English language books have 'en-**' or 'eng' as the language code.\n",
    "* Ensure that the both ratings bar charts have the same color scale and mean of units sold charts have the same color scale.\n",
    "* Charts in the same row should share a y axis."
   ]
  },
  {
   "cell_type": "markdown",
   "metadata": {
    "id": "nbvAZ5l8pof4"
   },
   "source": [
    "### Step 1: Write down your plan for the visualization (optional)\n",
    "\n",
    "TODO: edit this cell to write your visualization plan. You can write in altair syntax, in full sentence, or in bullet points, whichever way that helps you to plan your chart.  \n",
    "\n",
    "**Bar chart**\n",
    "* Describe the mark here: \n",
    "    * TODO: your answer here  \n",
    "* Describe the encoding rules: \n",
    "    * TODO: your answer here  \n",
    "* Describe the transformations:\n",
    "    * TODO: your answer here "
   ]
  },
  {
   "cell_type": "markdown",
   "metadata": {
    "id": "13sVbBclqMrj"
   },
   "source": [
    "### Step 2: Create your chart. \n",
    "Please paste your FINAL answer to the cell immediately blow this block (it will allow us to grade). You can search for the keyword \"TODO\" to locate cells that need your edits"
   ]
  },
  {
   "cell_type": "code",
   "execution_count": 6,
   "metadata": {
    "id": "QSnYW_I5qCCa"
   },
   "outputs": [],
   "source": [
    "# TODO: Compare the average ratings and units sold of books by language\n"
   ]
  },
  {
   "cell_type": "markdown",
   "metadata": {
    "id": "KkR34z0Lqd09"
   },
   "source": [
    "## Visualization 4: Heatmap with additional annotations\n"
   ]
  },
  {
   "cell_type": "markdown",
   "metadata": {
    "id": "uoohMB4-q8CV"
   },
   "source": [
    "<img src=\"https://scmcqueen.github.io/si649_hw/yellow_green.png\" height=\"300\">\n",
    "\n",
    "**Description of this visualization:**\n",
    "\n",
    "We want to produce a heatmap contrasting the different genres of books to the sale rank (excluding 'children' genre). Each cell in the heatmap will tell us how many movies (not normalized) are in that category.\n",
    "\n",
    "* Plot a heatmap with sale rank (binned) and genre. Encode the cunt of books as color. Remove the genre 'children'.\n",
    "* For each cell, add text to indicate the count of books.\n"
   ]
  },
  {
   "cell_type": "markdown",
   "metadata": {
    "id": "phGVyBeMsie7"
   },
   "source": [
    "### Step 1: Write down your plan for the visualization (optional)\n",
    "\n",
    "TODO: edit this cell to write your visualization plan. You can write in altair syntax, in full sentence, or in bullet points, whichever way that helps you to plan your chart.  \n",
    "\n",
    "**heatmap**\n",
    "* Describe the encoding rules: \n",
    "    * TODO: your answer here  \n",
    "* Describe the transformations:\n",
    "    * TODO: your answer here  \n",
    "\n",
    "**text annotation**\n",
    "* Describe the encoding rules: \n",
    "    * TODO: your answer here  \n",
    "* Describe the transformations:\n",
    "    * TODO: your answer here  \n",
    "\n"
   ]
  },
  {
   "cell_type": "markdown",
   "metadata": {
    "id": "sGkjf8yDtCDE"
   },
   "source": [
    "### Step 2: Create your chart.\n",
    "\n",
    "Please paste your FINAL answer to the cell immediately blow this block (it will allow us to grade). You can search for the keyword \"TODO\" to locate cells that need your edits"
   ]
  },
  {
   "cell_type": "code",
   "execution_count": 7,
   "metadata": {
    "id": "Baa5Kd2_tIJ0"
   },
   "outputs": [],
   "source": [
    "# TODO: Replicate Vis 4"
   ]
  },
  {
   "cell_type": "markdown",
   "metadata": {},
   "source": [
    "## Written Response: Chart Critique\n",
    "\n",
    "These charts are a great start, but they are unpolished. If we wanted to publish these visualizations, we would need to make some changes. Choose one of the four charts and provide 3 suggestions on how you would improve the chart before publication.\n"
   ]
  },
  {
   "cell_type": "markdown",
   "metadata": {},
   "source": [
    "Chart: [TODO: Specify which chart you're critiquing]\n",
    "\n",
    "1) [TO DO: Suggestion 1 & justification]\n",
    "2) [TO DO: Suggestion 2 & justification]\n",
    "3) [TO DO: Suggestion 3 & justification]"
   ]
  }
 ],
 "metadata": {
  "colab": {
   "provenance": []
  },
  "kernelspec": {
   "display_name": "Python 3 (ipykernel)",
   "language": "python",
   "name": "python3"
  },
  "language_info": {
   "codemirror_mode": {
    "name": "ipython",
    "version": 3
   },
   "file_extension": ".py",
   "mimetype": "text/x-python",
   "name": "python",
   "nbconvert_exporter": "python",
   "pygments_lexer": "ipython3",
   "version": "3.13.1"
  }
 },
 "nbformat": 4,
 "nbformat_minor": 4
}
