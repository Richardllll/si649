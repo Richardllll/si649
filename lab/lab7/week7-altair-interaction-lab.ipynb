{
 "cells": [
  {
   "cell_type": "markdown",
   "metadata": {
    "colab_type": "text",
    "id": "n25BajP8t_Vd",
    "slideshow": {
     "slide_type": "slide"
    }
   },
   "source": [
    "# Altair -- Interaction\n",
    "Eytan Adar, Licia He, and Dallas Card\n",
    "\n",
    "School of Information, University of Michigan"
   ]
  },
  {
   "cell_type": "markdown",
   "metadata": {
    "slideshow": {
     "slide_type": "slide"
    }
   },
   "source": [
    "\n",
    "## Plan\n",
    "1. Review\n",
    "2. Interaction \n",
    "\n",
    "## Resources/References \n",
    "*  [Interaction documentation](https://altair-viz.github.io/altair-tutorial/notebooks/06-Selections.html)\n",
    "*  [UW course examples](https://github.com/uwdata/visualization-curriculum/blob/master/altair_interaction.ipynb)\n",
    "*  [Multiple Interaction](https://altair-viz.github.io/gallery/multiple_interactions.html#gallery-multiple-interactions)\n"
   ]
  },
  {
   "cell_type": "code",
   "execution_count": null,
   "metadata": {
    "colab": {},
    "colab_type": "code",
    "id": "tzsh3LD4tzmv",
    "slideshow": {
     "slide_type": "subslide"
    }
   },
   "outputs": [],
   "source": [
    "# imports we will use\n",
    "import warnings\n",
    "warnings.simplefilter(action='ignore', category=FutureWarning)\n",
    "\n",
    "import altair as alt\n",
    "import pandas as pd\n",
    "from vega_datasets import data as vega_data\n",
    "cars_url = vega_data.cars.url\n",
    "cars = pd.read_json(cars_url)"
   ]
  },
  {
   "cell_type": "code",
   "execution_count": null,
   "metadata": {
    "colab": {
     "base_uri": "https://localhost:8080/",
     "height": 139
    },
    "colab_type": "code",
    "id": "RJag6TszvbeS",
    "outputId": "86e172a8-df89-416e-e4af-b47178829a9d",
    "slideshow": {
     "slide_type": "subslide"
    }
   },
   "outputs": [],
   "source": [
    "# see what's inside\n",
    "cars.sample(3)"
   ]
  },
  {
   "cell_type": "code",
   "execution_count": null,
   "metadata": {
    "colab": {
     "base_uri": "https://localhost:8080/",
     "height": 368
    },
    "colab_type": "code",
    "id": "mit90m3Yxnux",
    "outputId": "11a75641-6cfe-44fe-d154-201969fb37e4",
    "slideshow": {
     "slide_type": "subslide"
    }
   },
   "outputs": [],
   "source": [
    "#0.1 exercise make a scatter plot with \n",
    "#   Horsepower(X) and Miles_per_Gallon(Y)\n",
    "#   Encode Origin as color \n",
    "\n",
    "hp_mpg=alt.Chart(cars).mark_circle(size=80,opacity=0.5).encode(\n",
    "    x='Horsepower:Q',\n",
    "    y='Miles_per_Gallon:Q',\n",
    "    color='Origin'\n",
    ")\n",
    "hp_mpg\n"
   ]
  },
  {
   "cell_type": "markdown",
   "metadata": {
    "colab_type": "text",
    "id": "xfaujx7M-_Lq",
    "slideshow": {
     "slide_type": "slide"
    }
   },
   "source": [
    "## 1. Tooltip and default interactivity"
   ]
  },
  {
   "cell_type": "markdown",
   "metadata": {
    "slideshow": {
     "slide_type": "skip"
    }
   },
   "source": [
    "We'll be talking about interactivity extensively in class but we'd like to introduce you to some of the Altair/Vega-Lite features now. One of the main philosophies in interactivity for infovis is \"Overview first, zoom and filter, then details-on-demand.\" (called Shneiderman's mantra). It basically means that we should give the high level picture and support--through interaction--access to more.  \n",
    "\n",
    "To that end: we're going to enable a couple of features in our plot. First, we want to know which car correspond to which dot. If we see an outlier or interesting point we'll want to find it. We'll do this by enabling [tooltips](https://altair-viz.github.io/gallery/scatter_tooltips.html).  Second, with complex data we want to be able to zoom in and move around so we can see more points. This is easily enabled in Altair with the `.interactive()`"
   ]
  },
  {
   "cell_type": "markdown",
   "metadata": {},
   "source": [
    "So lets build a chart having tooltips and some basic interaction."
   ]
  },
  {
   "cell_type": "code",
   "execution_count": null,
   "metadata": {
    "colab": {
     "base_uri": "https://localhost:8080/",
     "height": 370
    },
    "colab_type": "code",
    "id": "wYdiP18Y--be",
    "outputId": "430e9220-aaca-4137-8181-554654fcfd97",
    "slideshow": {
     "slide_type": "subslide"
    }
   },
   "outputs": [],
   "source": [
    "#1.1 add tooltip and default interactivity \n",
    "c1=hp_mpg.encode(\n",
    "    tooltip='Name:N'\n",
    ").interactive()\n",
    "\n",
    "c2=hp_mpg.interactive() #Notice chart axes scales are interactive\n",
    "(c1|c2)"
   ]
  },
  {
   "cell_type": "code",
   "execution_count": null,
   "metadata": {
    "slideshow": {
     "slide_type": "subslide"
    }
   },
   "outputs": [],
   "source": [
    "#1.2 Tooltip Variant\n",
    "c1=hp_mpg.encode(\n",
    "    tooltip=['Name:N','Miles_per_Gallon:Q']\n",
    ")\n",
    "c1"
   ]
  },
  {
   "cell_type": "markdown",
   "metadata": {
    "colab_type": "text",
    "id": "Ja_wfRh6J64e",
    "slideshow": {
     "slide_type": "skip"
    }
   },
   "source": [
    "Note that there are other ways to simulate tooltips. For example, this [version](https://altair-viz.github.io/gallery/multiline_tooltip.html) achieves tooltips on the axes by having an invisible layer."
   ]
  },
  {
   "cell_type": "markdown",
   "metadata": {
    "colab_type": "text",
    "id": "KWr8L0tExGz-",
    "slideshow": {
     "slide_type": "slide"
    }
   },
   "source": [
    "## 2. Selection [Changes color depending on what you click on]"
   ]
  },
  {
   "cell_type": "markdown",
   "metadata": {
    "slideshow": {
     "slide_type": "skip"
    }
   },
   "source": [
    "Altair handles interaction through [selection](https://altair-viz.github.io/altair-tutorial/notebooks/06-Selections.html). An Altair *Selection* can \n",
    "1. handle input event \n",
    "2. determine whether or not a given data record lies within the selection \n",
    "3. (re-)configure the visualization based on the selection."
   ]
  },
  {
   "cell_type": "markdown",
   "metadata": {
    "colab_type": "text",
    "id": "C1wb-Dmzx801",
    "slideshow": {
     "slide_type": "skip"
    }
   },
   "source": [
    "### 2.1 Point Selections\n",
    "To make a single mark selection (hovering, clicking, etc. on a single mark), you need:\n",
    "1. What kind of selection do we want to make (mouseover/hover, on click, etc.)? Make a single selection instance, called `alt.selection_point()`, which is bound to mouse click by default.\n",
    "2. Define what happens when the selection happens by adding a [condition](https://altair-viz.github.io/user_guide/generated/api/altair.condition.html#altair.condition) \n",
    "3. Add this selection (STEP1) to your chart by calling `.add_params()`\n",
    "4. Include your condition in `encode` or `transform_filter`\n",
    "\n"
   ]
  },
  {
   "cell_type": "markdown",
   "metadata": {
    "slideshow": {
     "slide_type": "skip"
    }
   },
   "source": [
    "We will be using alt.condition a lot to specify what happens (step 2). Think of this as a fancy if-then-else. Usually we'll be doing things like this in the encoding:\n",
    "\n",
    "`color = alt.condition(selection,\"Origin\",alt.value(\"gray\")` which roughly means: if the thing is selected, keep it the original color, else set the the color to gray."
   ]
  },
  {
   "cell_type": "code",
   "execution_count": null,
   "metadata": {
    "colab": {
     "base_uri": "https://localhost:8080/",
     "height": 368
    },
    "colab_type": "code",
    "id": "8dAcYU4Sx0Mc",
    "outputId": "f9dcab2d-71db-4d03-ca75-06edff5e7fae",
    "slideshow": {
     "slide_type": "subslide"
    }
   },
   "outputs": [],
   "source": [
    "#2.1.1 : 4 steps for adding interactivity \n",
    "\n",
    "#step 1\n",
    "selection=alt.selection_point()\n",
    "\n",
    "#step 2 -- when selected, use the original color, else make it gray\n",
    "colorCondition=alt.condition(selection, \"Origin\", alt.value(\"gray\"))\n",
    "\n",
    "hp_mpg.add_params(\n",
    "    #step 3\n",
    "    selection\n",
    ").encode(\n",
    "    #step 4,\n",
    "    color=colorCondition,   \n",
    ")\n"
   ]
  },
  {
   "cell_type": "markdown",
   "metadata": {
    "slideshow": {
     "slide_type": "subslide"
    }
   },
   "source": [
    "### A word of advice\n",
    "\n",
    "Think backwards!\n",
    "\n",
    "* Create the vis without interactivity \n",
    " * Make sure that works!\n",
    "* Define selections & conditions\n",
    "* Wire them together"
   ]
  },
  {
   "cell_type": "markdown",
   "metadata": {
    "colab_type": "text",
    "id": "tne8n-L9MuzH",
    "slideshow": {
     "slide_type": "subslide"
    }
   },
   "source": [
    "Here are a list of things you can modify in a selection ([doc](https://altair-viz.github.io/user_guide/interactions/parameters.html#selection-types)). We will cover most of them today. \n",
    "* empty\n",
    "* type \n",
    "* on\n",
    "* nearest\n",
    "* value\n",
    "* bind\n",
    "* clear\n",
    "* encodings\n",
    "* fields\n",
    "* resolve"
   ]
  },
  {
   "cell_type": "markdown",
   "metadata": {
    "colab_type": "text",
    "id": "SD51bhCHJVDk",
    "slideshow": {
     "slide_type": "subslide"
    }
   },
   "source": [
    "\n",
    "### 2.2 empty\n",
    "\n",
    "If you notice earlier, all data values are \"automatically\" selected (show color) at the beginning. By default, all data values are considered to be within an empty selection. When set to False, empty selections contain no data values. "
   ]
  },
  {
   "cell_type": "code",
   "execution_count": null,
   "metadata": {
    "colab": {
     "base_uri": "https://localhost:8080/",
     "height": 368
    },
    "colab_type": "code",
    "id": "tMnmW2IxF0Cm",
    "outputId": "0ac13f80-f93e-4445-cf8c-e3159cb9a4d2",
    "slideshow": {
     "slide_type": "subslide"
    }
   },
   "outputs": [],
   "source": [
    "#2.2.1 adjust size, and change default \"empty\"\n",
    "                     \n",
    "selection=alt.selection_point(\n",
    "    # pt2add empty=\"none\" so that nothing is selected by default\n",
    "    empty=False\n",
    "    )\n",
    "\n",
    "#change size instead of color\n",
    "sizeCondition=alt.condition(selection,alt.SizeValue(200),alt.SizeValue(50))\n",
    "\n",
    "# this time we'll modify the size\n",
    "hp_mpg.add_params(\n",
    "    selection\n",
    ").encode(\n",
    "    #pt1: use Size for mapping to column\n",
    "    #use SizeValue to input pixel value\n",
    "    size=sizeCondition,\n",
    ")"
   ]
  },
  {
   "cell_type": "code",
   "execution_count": null,
   "metadata": {
    "colab": {
     "base_uri": "https://localhost:8080/",
     "height": 368
    },
    "colab_type": "code",
    "id": "xlZ-VQg1Jk57",
    "outputId": "3ef7223d-5e9f-4df1-d8ce-453be9477209",
    "slideshow": {
     "slide_type": "subslide"
    }
   },
   "outputs": [],
   "source": [
    "# 2.2.2 Three steps for making an interactive chart\n",
    "\n",
    "# put it all together ~ Empty, size and color condition\n",
    "\n",
    "#1. define selection (nothing selected to start)\n",
    "selection=alt.selection_point(empty=False)\n",
    "\n",
    "#2. define condition\n",
    "sizeCondition=alt.condition(selection,alt.SizeValue(200),alt.SizeValue(50))\n",
    "colorCondition=alt.condition(selection,\"Origin\",alt.value(\"gray\"))\n",
    "\n",
    "#3. add selection and conditions to chart\n",
    "hp_mpg.add_params(\n",
    "    selection\n",
    ").encode(\n",
    "    # 4. add conditions to encode: you can chain multiple selections\n",
    "    size=sizeCondition,\n",
    "    color=colorCondition\n",
    ")"
   ]
  },
  {
   "cell_type": "markdown",
   "metadata": {
    "colab_type": "text",
    "id": "wHWu3bSw2cCh",
    "slideshow": {
     "slide_type": "subslide"
    }
   },
   "source": [
    "### 2.3 Type\n",
    "There are 2 types of selections:\n",
    "* **selection_point** - select a single discrete value, by default on click events. Can also use shift-click for multiple.\n",
    "* **selection_interval** - select a continuous range of values, initiated by mouse drag."
   ]
  },
  {
   "cell_type": "code",
   "execution_count": null,
   "metadata": {
    "colab": {
     "base_uri": "https://localhost:8080/",
     "height": 368
    },
    "colab_type": "code",
    "id": "H8pKx-Kf1PUB",
    "outputId": "33d8576d-5aad-4cec-a270-610ab563718c",
    "slideshow": {
     "slide_type": "subslide"
    }
   },
   "outputs": [],
   "source": [
    "# 2.3.1 multi\n",
    "\n",
    "# here's an example of multiple selection\n",
    "\n",
    "#step1 \n",
    "selection=alt.selection_point()\n",
    "\n",
    "#step2\n",
    "colorCondition=alt.condition(selection,\"Origin\",alt.value(\"gray\"))\n",
    "\n",
    "hp_mpg.add_params(\n",
    "    #step3\n",
    "    selection\n",
    ").encode(\n",
    "    #step4\n",
    "    color=colorCondition,\n",
    ")"
   ]
  },
  {
   "cell_type": "code",
   "execution_count": null,
   "metadata": {
    "colab": {
     "base_uri": "https://localhost:8080/",
     "height": 368
    },
    "colab_type": "code",
    "id": "sXzeQZM3GfZ7",
    "outputId": "8fd291a7-5c36-4aed-91be-ff90735c7482",
    "slideshow": {
     "slide_type": "subslide"
    }
   },
   "outputs": [],
   "source": [
    "# 2.3.2 interval \n",
    "\n",
    "# example of an interval\n",
    "\n",
    "#step1, click drag to select a range in the x and y directions\n",
    "selection=alt.selection_interval();\n",
    "\n",
    "#step2\n",
    "colorCondition=alt.condition(selection,\"Origin\",alt.value(\"gray\"))\n",
    "\n",
    "hp_mpg.add_params(\n",
    "    #step3\n",
    "    selection\n",
    ").encode(\n",
    "    #step4\n",
    "    color=colorCondition,\n",
    ")"
   ]
  },
  {
   "cell_type": "markdown",
   "metadata": {
    "colab_type": "text",
    "id": "oNB4kB5b4LCL",
    "slideshow": {
     "slide_type": "subslide"
    }
   },
   "source": [
    "### 2.4 \"On\"\n",
    "\n",
    "By default things work based on clicks, but you can use other event types like hovering.\n",
    "\n",
    "A Vega [event stream](https://vega.github.io/vega/docs/event-streams/) (object or selector) triggers the selection. For interval selections, the event stream must specify a start and end.\n",
    "\n",
    "You can customize using[ vega event selector syntax](https://vega.github.io/vega/docs/event-streams/) "
   ]
  },
  {
   "cell_type": "code",
   "execution_count": null,
   "metadata": {
    "colab": {
     "base_uri": "https://localhost:8080/",
     "height": 368
    },
    "colab_type": "code",
    "id": "3hWG8YM_2wV9",
    "outputId": "8e0d6d8b-dfae-4517-9668-43206d5b256c",
    "slideshow": {
     "slide_type": "subslide"
    }
   },
   "outputs": [],
   "source": [
    "#2.4.1  mouseover instead of click \n",
    "\n",
    "#step1 \n",
    "selection=alt.selection_point(on=\"mouseover\");\n",
    "\n",
    "#step2\n",
    "colorCondition=alt.condition(selection,\"Origin\",alt.value(\"gray\"))\n",
    "\n",
    "hp_mpg.add_params(\n",
    "    #step3\n",
    "    selection\n",
    ").encode(\n",
    "    #step4\n",
    "    color=colorCondition,\n",
    ")"
   ]
  },
  {
   "cell_type": "markdown",
   "metadata": {
    "colab_type": "text",
    "id": "rWZZ_UtJKy1v",
    "slideshow": {
     "slide_type": "subslide"
    }
   },
   "source": [
    "### 2.5 Nearest \n",
    "When true, an invisible voronoi diagram is computed to accelerate discrete selection. The data value nearest the mouse cursor is added to the selection.\n"
   ]
  },
  {
   "cell_type": "code",
   "execution_count": null,
   "metadata": {
    "colab": {
     "base_uri": "https://localhost:8080/",
     "height": 368
    },
    "colab_type": "code",
    "id": "XF-bNonvNK2O",
    "outputId": "eb2f84cc-3553-471e-a6ba-c8f125607b0d",
    "slideshow": {
     "slide_type": "subslide"
    }
   },
   "outputs": [],
   "source": [
    "#2.5.1 \n",
    "selection=alt.selection_point(on='mouseover', nearest=True)\n",
    "colorCondition=alt.condition(selection,\"Origin\",alt.value(\"gray\"))\n",
    "hp_mpg.add_params(selection).encode(\n",
    "    color=colorCondition\n",
    ")"
   ]
  },
  {
   "cell_type": "markdown",
   "metadata": {
    "colab_type": "text",
    "id": "Wr03cOykSDZr",
    "slideshow": {
     "slide_type": "subslide"
    }
   },
   "source": [
    "### 2.6 Clear \n",
    "Clears the selection, emptying it of all values. Can be an EventStream or false to disable."
   ]
  },
  {
   "cell_type": "code",
   "execution_count": null,
   "metadata": {
    "colab": {
     "base_uri": "https://localhost:8080/",
     "height": 368
    },
    "colab_type": "code",
    "id": "32VslmdcSCw3",
    "outputId": "2ae8c4dc-ae6d-4be5-887e-a37507212b2e",
    "slideshow": {
     "slide_type": "subslide"
    }
   },
   "outputs": [],
   "source": [
    "#2.6 clear\n",
    "\n",
    "# select when mouseover, use the nearest value, when the end-user clicks\n",
    "# clear the selection\n",
    "selection=alt.selection_point(on='mouseover', nearest=True, clear=\"click\")\n",
    "\n",
    "colorCondition=alt.condition(selection,\"Origin\",alt.value(\"gray\"))\n",
    "\n",
    "hp_mpg.add_params(selection).encode(\n",
    "    color=colorCondition\n",
    ")"
   ]
  },
  {
   "cell_type": "markdown",
   "metadata": {
    "colab_type": "text",
    "id": "dJYC8oN-gllA",
    "slideshow": {
     "slide_type": "subslide"
    }
   },
   "source": [
    "### 2.7 [Value](https://vega.github.io/vega-lite/docs/value.html)\n",
    "\n",
    "One trick you can use to focus attention is to initialize the value. Note that because selections work on x/y coordinates (where the mouse is) that's what we'll use. In this example we set a rectangle for the initial selection. "
   ]
  },
  {
   "cell_type": "code",
   "execution_count": null,
   "metadata": {
    "colab": {
     "base_uri": "https://localhost:8080/",
     "height": 368
    },
    "colab_type": "code",
    "id": "8Kq4qLkVglGg",
    "outputId": "f6ee7486-55f6-4f06-c8fc-46bcaf6d78f2",
    "slideshow": {
     "slide_type": "subslide"
    }
   },
   "outputs": [],
   "source": [
    "#2.7.1 Interval selection - Specify the initial value\n",
    "#with initial value  (we are using x, and y instead of HP and MPG)\n",
    "selection=alt.selection_interval(value={\"x\":[60,150],\"y\":[15,30]}) #value = initialize\n",
    "\n",
    "colorCondition=alt.condition(selection,\"Origin\",alt.value(\"gray\"))\n",
    "\n",
    "hp_mpg.add_params(selection).encode(\n",
    "    color=colorCondition\n",
    ")"
   ]
  },
  {
   "cell_type": "markdown",
   "metadata": {
    "colab_type": "text",
    "id": "fLra0u-skq4C",
    "slideshow": {
     "slide_type": "subslide"
    }
   },
   "source": [
    "### 2.8 Encodings \n",
    "\n",
    "An array of encoding channels. The corresponding data field values must match for a data tuple to fall within the selection. A way to think of it is: what is the target of our selection? Is it an example of a \"class\" of points? Are we trying to select based on some feature (like the x value?)\n"
   ]
  },
  {
   "cell_type": "code",
   "execution_count": null,
   "metadata": {
    "colab": {
     "base_uri": "https://localhost:8080/",
     "height": 386
    },
    "colab_type": "code",
    "id": "I9kgMFNhk31G",
    "outputId": "88a2d3c4-61d5-401b-b229-505a3ef0bdb5",
    "slideshow": {
     "slide_type": "subslide"
    }
   },
   "outputs": [],
   "source": [
    "#2.8.1\n",
    "# here, we're going to select other points based on the color of the selection [ Eg. If I click on orange, all the other orange data points are selected]\n",
    "selection_single = alt.selection_point(encodings=[\"color\"])\n",
    "\n",
    "colorCondition1 = alt.condition(selection_single,\"Origin\",alt.value(\"gray\"))\n",
    "\n",
    "c1=hp_mpg.add_params(selection_single).encode(\n",
    "    color= colorCondition1\n",
    ").properties(title=\"encoding = color\")\n",
    "\n",
    "# here, we're going to select other points based on the x value of what we clicked on\n",
    "\n",
    "selection_interval=alt.selection_interval(encodings=[\"x\"])\n",
    "\n",
    "colorCondition2 = alt.condition(selection_interval,\"Origin\",alt.value(\"gray\"))\n",
    "\n",
    "c2=hp_mpg.add_params(selection_interval).encode(\n",
    "    color = colorCondition2\n",
    ").properties(title=\"encoding = x\")\n",
    "\n",
    "\n",
    "# 2.8.2  Plot the two charts\n",
    "c1|c2"
   ]
  },
  {
   "cell_type": "code",
   "execution_count": null,
   "metadata": {
    "colab": {
     "base_uri": "https://localhost:8080/",
     "height": 370
    },
    "colab_type": "code",
    "id": "-1lMic2_lWKE",
    "outputId": "d84845d3-4951-47f4-95b9-7d503d5aa43d",
    "slideshow": {
     "slide_type": "subslide"
    }
   },
   "outputs": [],
   "source": [
    "# 2.8.3 extra ~ 2 interval based selections\n",
    "# using & | and ~ to do logical operations for selections \n",
    "# take a look at the color \n",
    "# make sure that you add individual selections to your chart.\n",
    "\n",
    "s1=alt.selection_interval(encodings=[\"x\"]) # selecting data in the x direction\n",
    "s2=alt.selection_interval(encodings=[\"y\"]) # selecting data in the y direction\n",
    "\n",
    "\n",
    "c2=hp_mpg.add_params(s1,s2).encode( # adding both selections\n",
    "    color = alt.condition(s1&(~s2),\"Origin\",alt.value(\"gray\")) # Color condition: s1 and NOT(~) s2\n",
    ")\n",
    "\n",
    "c3=hp_mpg.add_params(s1,s2).encode(\n",
    "    color = alt.condition(s1|s2,\"Origin\",alt.value(\"gray\")) # Color condition: s1 or s2\n",
    ")\n",
    "\n",
    "c2|c3 \n",
    "# Not a useful example, but good to know!"
   ]
  },
  {
   "cell_type": "markdown",
   "metadata": {
    "colab_type": "text",
    "id": "i4GHAXSllr1s",
    "slideshow": {
     "slide_type": "skip"
    }
   },
   "source": [
    "#### Fields\n",
    "Very similar to encodings.  Using field names instead of encoding schemas.\n",
    "\n",
    "alt.condition(selection_single,\"Origin\",alt.value(\"gray\")\n"
   ]
  },
  {
   "cell_type": "markdown",
   "metadata": {
    "colab_type": "text",
    "id": "j61HRKNuKiXT",
    "slideshow": {
     "slide_type": "subslide"
    }
   },
   "source": [
    "### 2.9 Bind\n",
    "\n",
    "**Short version**: Connect selection to scale or widgets\n",
    "\n",
    "**Official definition**: Establish a two-way binding between a single selection and input elements (also known as dynamic query widgets). A binding takes the form of Vega’s input element binding definition or can be a mapping between projected field/encodings and binding definitions.\n",
    "\n",
    "\n"
   ]
  },
  {
   "cell_type": "markdown",
   "metadata": {
    "colab_type": "text",
    "id": "66TpW0wAnm0a",
    "slideshow": {
     "slide_type": "subslide"
    }
   },
   "source": [
    "**Binding to \"scales\"** creates zooming and panning\n",
    "\n",
    "One simple way to do this to say that we want to control the way zooming/panning works based on the \"selection\" (click and drag to see this)"
   ]
  },
  {
   "cell_type": "code",
   "execution_count": null,
   "metadata": {
    "colab": {
     "base_uri": "https://localhost:8080/",
     "height": 385
    },
    "colab_type": "code",
    "id": "qqeDjx04nNBz",
    "outputId": "2ac55e75-9472-4563-9298-70d2fbb76c16",
    "scrolled": true,
    "slideshow": {
     "slide_type": "subslide"
    }
   },
   "outputs": [],
   "source": [
    "#2.9.1 setting scales \n",
    "\n",
    "# has to be interval. We can \"bind\" the selection to \n",
    "# the axes instead of the data\n",
    "\n",
    "# same as .interactive\n",
    "selection=alt.selection_interval(bind=\"scales\",encodings=[\"x\"]) # pans across x axis\n",
    "# selection=alt.selection_interval(bind=\"scales\",encodings=[\"y\"]) # pans across y axis\n",
    "# selection=alt.selection_interval(bind=\"scales\",encodings=['x','y']) # pans across both axis\n",
    "\n",
    "hp_mpg.add_params(selection).encode(\n",
    "    color=\"Origin:N\"\n",
    ").properties(title=\"zooming and panning\")"
   ]
  },
  {
   "cell_type": "markdown",
   "metadata": {
    "colab_type": "text",
    "id": "YkuTjYw28WC7",
    "slideshow": {
     "slide_type": "slide"
    }
   },
   "source": [
    "## 3. **Bind to  [interface widget](https://altair-viz.github.io/gallery/multiple_interactions.html)**\n",
    "\n",
    "A more interesting objective is to bind the vis to widgets. Based on what happens in the widget, we'll change the data.\n",
    "\n",
    "Widgets are built-in components that takes users'selection input. \n",
    "Altair has the following [widgets](https://altair-viz.github.io/gallery/multiple_interactions.html#gallery-multiple-interactions) \n",
    "\n",
    "1.   select (dropdown-menu)\n",
    "2.   checkbox  (multiple selections)\n",
    "3.   radio (single selection)\n",
    "4.   range (value slider)\n",
    "\n"
   ]
  },
  {
   "cell_type": "markdown",
   "metadata": {
    "colab_type": "text",
    "id": "TaTs1cQd6EXx",
    "slideshow": {
     "slide_type": "subslide"
    }
   },
   "source": [
    "### 3.1 Drop-Down\n",
    "\n",
    "Let's create a simple drop-down menu. We'll need to do the following:\n",
    "\n",
    "1.   Obtain a list of options (to populate the drop-down)\n",
    "2.   Create a selection, with field, init, and bind. (\"bind\" the widget)\n",
    "3.   Create a condition\n",
    "\n"
   ]
  },
  {
   "cell_type": "code",
   "execution_count": null,
   "metadata": {
    "colab": {
     "base_uri": "https://localhost:8080/",
     "height": 34
    },
    "colab_type": "code",
    "id": "Of01TTJF7T_5",
    "outputId": "10ba0185-3c1c-40a7-9b53-157ac39bc889",
    "slideshow": {
     "slide_type": "subslide"
    }
   },
   "outputs": [],
   "source": [
    "#3.1.1 \n",
    "# you can create the list of options any way you want\n",
    "# here, we'll just use pandas to figure out what options we have\n",
    "\n",
    "# step 1\n",
    "origins=list(cars['Origin'].unique())\n",
    "origins.sort()\n",
    "origins"
   ]
  },
  {
   "cell_type": "code",
   "execution_count": null,
   "metadata": {
    "colab": {
     "base_uri": "https://localhost:8080/",
     "height": 386
    },
    "colab_type": "code",
    "id": "UMAJkwps7fqg",
    "outputId": "95e337f8-21b2-4ad1-d54f-dbe08cfab97c",
    "slideshow": {
     "slide_type": "subslide"
    }
   },
   "outputs": [],
   "source": [
    "#3.1.2 \n",
    "\n",
    "# step 2\n",
    "selectOrigin=alt.selection_point(\n",
    "    fields=['Origin'], # our selection is going to select based on origin\n",
    "    value=origins[0], # what should the start value be?\n",
    "    \n",
    "    # now creat a binding (binding_select is a drop down)\n",
    "    bind=alt.binding_select(options=origins, name=\"Select Origin\"),\n",
    "    #\"options\" is required, \"name\" within here will override.\n",
    ")\n",
    "\n",
    "#step 3\n",
    "# when selected, stick to the original color of the Origin\n",
    "# otherwise make it light gray\n",
    "colorCondition = alt.condition(selectOrigin,alt.Color(\"Origin:N\"),alt.value('lightgray'))\n",
    "\n",
    "hp_mpg.add_params(\n",
    "    selectOrigin\n",
    ").encode(\n",
    "    color=colorCondition\n",
    ")"
   ]
  },
  {
   "cell_type": "code",
   "execution_count": null,
   "metadata": {
    "colab": {
     "base_uri": "https://localhost:8080/",
     "height": 386
    },
    "colab_type": "code",
    "id": "UZSPlmDqQRu8",
    "outputId": "da866821-1f91-4fbc-d80b-4dbad8c611a6",
    "slideshow": {
     "slide_type": "subslide"
    }
   },
   "outputs": [],
   "source": [
    "#3.1.3 transform and disable \n",
    "\n",
    "# the default behavior is that selections get cleared when you click\n",
    "# we can override this so it will disable the mouse action (we're going\n",
    "# to use an event that can't really happen... keyup)\n",
    "\n",
    "selectOrigin=alt.selection_point(\n",
    "    fields=['Origin'],\n",
    "    value=origins[0],\n",
    "    bind=alt.binding_select(options=origins),\n",
    "    on=\"keyup\", #disable\n",
    "    clear=\"false\"\n",
    ")\n",
    "\n",
    "# here, we're going to filter based on the selection\n",
    "hp_mpg.encode(color=\"Origin:N\").add_params(\n",
    "    selectOrigin\n",
    ").transform_filter(\n",
    "    selectOrigin\n",
    ")\n",
    "# Notice that the color for origin is gone. \n",
    "# Also, the x and y axis change along with your selection. "
   ]
  },
  {
   "cell_type": "markdown",
   "metadata": {},
   "source": [
    "### 3.2 Checkbox\n",
    "\n",
    "For using checkboxes, we can simply create an Altair param, rather than using a type of selector, and then bind it to binding_checkbox"
   ]
  },
  {
   "cell_type": "code",
   "execution_count": null,
   "metadata": {},
   "outputs": [],
   "source": [
    "#3.2\n",
    "\n",
    "# create the checkbox\n",
    "select_checkbox=alt.param(\n",
    "    bind=alt.binding_checkbox(name=\"Hide color\"),\n",
    ")\n",
    "\n",
    "hp_mpg.add_params(\n",
    "    select_checkbox\n",
    ").encode(\n",
    "    color=alt.condition(select_checkbox, alt.value('gray'), alt.Color(\"Origin:N\"),)\n",
    ")"
   ]
  },
  {
   "cell_type": "markdown",
   "metadata": {
    "colab_type": "text",
    "id": "lvEjjAzBMH-Y",
    "slideshow": {
     "slide_type": "subslide"
    }
   },
   "source": [
    "### 3.3 Radio button\n",
    "\n",
    "Here's an example using radio buttons"
   ]
  },
  {
   "cell_type": "code",
   "execution_count": null,
   "metadata": {
    "colab": {
     "base_uri": "https://localhost:8080/",
     "height": 387
    },
    "colab_type": "code",
    "id": "vCb4uTtMMMsp",
    "outputId": "fb64e2d5-0b95-4ff2-c4ff-d89163fa9d96",
    "slideshow": {
     "slide_type": "subslide"
    }
   },
   "outputs": [],
   "source": [
    "# 3.2.1 radio, and name \n",
    "selectOrigin=alt.selection_point(\n",
    "    fields=['Origin'],\n",
    "    value=origins[0],\n",
    "    # notice the binding_radio\n",
    "    bind=alt.binding_radio(options=origins,name=\"Origin\"),#edit this line\n",
    "    name=\"Origin\"\n",
    ")\n",
    "\n",
    "hp_mpg.add_params(\n",
    "    selectOrigin\n",
    ").encode(\n",
    "    color=alt.condition(selectOrigin,alt.Color(\"Origin:N\"),alt.value('lightgray'))\n",
    ")"
   ]
  },
  {
   "cell_type": "markdown",
   "metadata": {
    "colab_type": "text",
    "id": "DvzGHiTLOA5d",
    "slideshow": {
     "slide_type": "subslide"
    }
   },
   "source": [
    "### 3.4 Slider\n",
    "\n",
    "A really useful tool for quantitative variables is the slider. We need to know the min/max values, but otherwise it works much like the other widgets."
   ]
  },
  {
   "cell_type": "code",
   "execution_count": null,
   "metadata": {
    "colab": {
     "base_uri": "https://localhost:8080/",
     "height": 34
    },
    "colab_type": "code",
    "id": "x5COcBfZPngN",
    "outputId": "e199b6b1-60d8-4a82-c93e-54c0a063206d",
    "slideshow": {
     "slide_type": "subslide"
    }
   },
   "outputs": [],
   "source": [
    "#3.4.1 \n",
    "\n",
    "#use pandas to get the min/max\n",
    "horsepower_min = cars[\"Horsepower\"].min()\n",
    "horsepower_max = cars[\"Horsepower\"].max()\n",
    "print(horsepower_min,horsepower_max)"
   ]
  },
  {
   "cell_type": "code",
   "execution_count": null,
   "metadata": {
    "colab": {
     "base_uri": "https://localhost:8080/",
     "height": 396
    },
    "colab_type": "code",
    "id": "rGGlOHMoNFbM",
    "outputId": "886e2ede-2d0c-422f-ceaa-11031a89052b",
    "slideshow": {
     "slide_type": "subslide"
    }
   },
   "outputs": [],
   "source": [
    "#3.4.2 slider example \n",
    "#init slider \n",
    "slider=alt.binding_range(\n",
    "    min=horsepower_min,  # min\n",
    "    max=horsepower_max,  # max\n",
    "    step=1,              # how many steps to move when the slider adjusts\n",
    "    name=\"cutoff\"        # what we call this slider variable\n",
    "    )\n",
    "\n",
    "#init selection \n",
    "selector = alt.selection_point(\n",
    "    bind=slider,        # bind to the slider\n",
    "    fields= [\"cutoff\"], # we'll use the cutoff variable\n",
    "    value=horsepower_max  # start at the max\n",
    "    )\n",
    "\n",
    "hp_mpg.add_params(\n",
    "        selector\n",
    "    ).transform_filter(\n",
    "        alt.datum.Horsepower < selector.cutoff,\n",
    "    )"
   ]
  },
  {
   "cell_type": "markdown",
   "metadata": {
    "colab_type": "text",
    "id": "IuIxHNjb-A4G",
    "slideshow": {
     "slide_type": "slide"
    }
   },
   "source": [
    "## 4. Multiple selections and charts\n",
    "\n",
    "You can always link selections between charts. So actions in one widget can impact multiple visualizations (or changes in one visualization will change the other... this is sometimes called cross-filtering)"
   ]
  },
  {
   "cell_type": "code",
   "execution_count": null,
   "metadata": {
    "colab": {
     "base_uri": "https://localhost:8080/",
     "height": 398
    },
    "colab_type": "code",
    "id": "B4Smoosx-WiJ",
    "outputId": "b2fc9d6d-8783-4594-88fc-5d173e0f9bdd",
    "slideshow": {
     "slide_type": "subslide"
    }
   },
   "outputs": [],
   "source": [
    "#4.1 share selection/input \n",
    "\n",
    "# make a slider \n",
    "slider=alt.binding_range(\n",
    "    min=horsepower_min,\n",
    "    max=horsepower_max,\n",
    "    step=1,\n",
    "    name=\"cutoff\"\n",
    "    )\n",
    "\n",
    "#init selection \n",
    "selector = alt.selection_point(\n",
    "    bind=slider,\n",
    "    fields= [\"cutoff\"],\n",
    "    value=horsepower_max\n",
    "    )\n",
    "\n",
    "# make the first chart. The size of the point\n",
    "# will change based on the slider\n",
    "c1=hp_mpg.encode(\n",
    "    size=alt.condition(\n",
    "        alt.datum.Horsepower<selector.cutoff,\n",
    "        alt.SizeValue(300),alt.SizeValue(10)\n",
    "    )\n",
    "    ).add_params(\n",
    "        selector\n",
    "    )\n",
    "\n",
    "# the second chart has different data (actually, it's the same, just rotated)\n",
    "c2=alt.Chart(cars).mark_circle(size=80,opacity=0.5).encode(\n",
    "    y='Horsepower:Q',\n",
    "    x='Miles_per_Gallon:Q',\n",
    "    color=\"Origin\",\n",
    "    size=alt.condition(\n",
    "        alt.datum.Horsepower<selector.cutoff,\n",
    "        alt.SizeValue(100),alt.SizeValue(10)\n",
    "    )\n",
    ").add_params(\n",
    "    selector\n",
    ")\n",
    "\n",
    "# plot it \n",
    "c1|c2"
   ]
  },
  {
   "cell_type": "code",
   "execution_count": null,
   "metadata": {
    "colab": {
     "base_uri": "https://localhost:8080/",
     "height": 412
    },
    "colab_type": "code",
    "id": "ZMW4cdQtjCLs",
    "outputId": "29563f27-4378-418d-ea7e-69646d3f14fb",
    "slideshow": {
     "slide_type": "subslide"
    }
   },
   "outputs": [],
   "source": [
    "#4.2 multiple charts,  multiple selection, and multiple conditions \n",
    "\n",
    "# let's put everything together. Cross filtering\n",
    "\n",
    "# first, let's make a radio button based on number of cylinders\n",
    "# first grab the initial options \n",
    "# bug: why do we need map?\n",
    "# Pandas dataframe stores int as int64, which cannot be converted into json.\n",
    "# Threfore, we need to convert the option list into a standard int (floats will also work). \n",
    "# Note: do not use pandas.to_numeric(), which will produce an incompatible format as well.   \n",
    "\n",
    "cy_options=list(cars[\"Cylinders\"].unique())\n",
    "cy_options=list(map(lambda x:int(x),cy_options))\n",
    "cy_options.sort()\n",
    "\n",
    "cy_radio=alt.binding_radio(\n",
    "    options=cy_options\n",
    ")\n",
    "radio_selector = alt.selection_point(\n",
    "    name=\"cylinder\",\n",
    "    fields=[\"Cylinders\"],\n",
    "    bind=cy_radio,\n",
    "    value=4\n",
    "    )\n",
    "\n",
    "# selected items should stay the original color, otherwise orangeg\n",
    "colorCondition=alt.condition(radio_selector,\"Cylinders\",alt.value(\"orange\"))\n",
    "\n",
    "# make a selection based on year \n",
    "yearSelector = alt.selection_interval()\n",
    "\n",
    "sizeCondition=alt.condition(\n",
    "    yearSelector,\n",
    "    alt.SizeValue(60),\n",
    "    alt.SizeValue(10)\n",
    ")\n",
    "\n",
    "# first chart, colors bound to radio\n",
    "# size will be bound to the year selection\n",
    "c1=alt.Chart(cars).mark_point().encode(\n",
    "    y=\"Miles_per_Gallon:Q\",\n",
    "    x=\"Cylinders:O\"\n",
    ").add_params(\n",
    "        radio_selector,\n",
    "    ).encode(\n",
    "        color=colorCondition,\n",
    "        size=sizeCondition\n",
    "    )\n",
    "\n",
    "# second chart, colors bound to radio\n",
    "# size will be bound to the year selection\n",
    "c2=alt.Chart(cars).mark_point().encode(\n",
    "    y=\"Acceleration:Q\",\n",
    "    x=\"Origin:O\",\n",
    "    color=colorCondition,\n",
    "    size=sizeCondition\n",
    ")\n",
    "\n",
    "# third chart. We going to add the selection (radio and year)\n",
    "# to this one. The other two charts didn't have year.\n",
    "c3=alt.Chart(cars).mark_circle().encode(\n",
    "    y=\"Acceleration:Q\",\n",
    "    x=\"Year:T\",\n",
    "    color=colorCondition,\n",
    "    size=sizeCondition\n",
    ").add_params(\n",
    "    yearSelector,\n",
    "    radio_selector\n",
    ")\n",
    "\n",
    "# plot them all together\n",
    "(c1|c2|c3).resolve_scale(y=\"shared\")"
   ]
  },
  {
   "cell_type": "markdown",
   "metadata": {},
   "source": [
    "# Reminer: Exporting to HTML"
   ]
  },
  {
   "cell_type": "markdown",
   "metadata": {},
   "source": [
    "As a reminder, you can export charts to HMTL directly with the `save()` function"
   ]
  },
  {
   "cell_type": "code",
   "execution_count": null,
   "metadata": {},
   "outputs": [],
   "source": [
    "#Example:\n",
    "\n",
    "#init slider \n",
    "slider=alt.binding_range(\n",
    "    min=horsepower_min,  # min\n",
    "    max=horsepower_max,  # max\n",
    "    step=1,              # how many steps to move when the slider adjusts\n",
    "    name=\"cutoff\"        # what we call this slider variable\n",
    "    )\n",
    "\n",
    "#init selection \n",
    "selector = alt.selection_point(\n",
    "    bind=slider,        # bind to the slider\n",
    "    fields= [\"cutoff\"], # we'll use the cutoff variable\n",
    "    value=horsepower_max  # start at the max\n",
    "    )\n",
    "\n",
    "hp_mpg=alt.Chart(cars).mark_circle(size=80,opacity=0.5).encode(\n",
    "    x='Horsepower:Q',\n",
    "    y='Miles_per_Gallon:Q',\n",
    "    color='Origin:N'\n",
    ")\n",
    "\n",
    "chart = hp_mpg.add_params(\n",
    "        selector\n",
    "    ).transform_filter(\n",
    "        alt.datum.Horsepower < selector.cutoff,\n",
    "    )\n",
    "\n",
    "chart.save('chart.html')\n"
   ]
  },
  {
   "cell_type": "markdown",
   "metadata": {},
   "source": [
    "You will now see `chart.html` in the same directory as this notebook.\n",
    "\n",
    "You can open it in a browser, and it will half the same interactive functionality. \n",
    "\n",
    "You can also upload that html file to a server (e.g., on github pages), and it will continue to function."
   ]
  },
  {
   "cell_type": "markdown",
   "metadata": {},
   "source": [
    "## Working with live data\n",
    "\n",
    "The above approach embeds the entire dataset in the file. We can avoid this by instead giving altair a URL for the data, instead of passing the data frame directly.\n",
    "\n",
    "With this approach, the dataset will be retrieved when the page is loaded"
   ]
  },
  {
   "cell_type": "code",
   "execution_count": null,
   "metadata": {},
   "outputs": [],
   "source": [
    "#Example:\n",
    "\n",
    "#init slider \n",
    "slider=alt.binding_range(\n",
    "    min=horsepower_min,  # min\n",
    "    max=horsepower_max,  # max\n",
    "    step=1,              # how many steps to move when the slider adjusts\n",
    "    name=\"cutoff\"        # what we call this slider variable\n",
    "    )\n",
    "\n",
    "#init selection \n",
    "selector = alt.selection_point(\n",
    "    bind=slider,        # bind to the slider\n",
    "    fields= [\"cutoff\"], # we'll use the cutoff variable\n",
    "    value=horsepower_max  # start at the max\n",
    "    )\n",
    "\n",
    "### Give Altair the URL to the cars dataset, instead of the dataset itself ###\n",
    "hp_mpg=alt.Chart(cars_url).mark_circle(size=80,opacity=0.5).encode(\n",
    "    x='Horsepower:Q',\n",
    "    y='Miles_per_Gallon:Q',\n",
    "    color='Origin:N'\n",
    ")\n",
    "\n",
    "chart = hp_mpg.add_params(\n",
    "        selector\n",
    "    ).transform_filter(\n",
    "        alt.datum.Horsepower < selector.cutoff,\n",
    "    )\n",
    "\n",
    "chart.save('chart_compact.html')\n"
   ]
  },
  {
   "cell_type": "markdown",
   "metadata": {},
   "source": [
    "Comparing the output, we see that `chart.html` is 84kb whereas `chart_compact.html` is only 2kb"
   ]
  },
  {
   "cell_type": "markdown",
   "metadata": {},
   "source": [
    "## Putting multiple charts in an HTML file"
   ]
  },
  {
   "cell_type": "markdown",
   "metadata": {},
   "source": [
    "Let's look at whats in the `chart_compact.html` file.\n",
    "\n",
    "There are four key sections:\n",
    "\n",
    "**1. Style**:\n",
    "```\n",
    "  <style>\n",
    "    #vis.vega-embed {\n",
    "      width: 100%;\n",
    "      display: flex;\n",
    "    }\n",
    "\n",
    "    #vis.vega-embed details,\n",
    "    #vis.vega-embed details summary {\n",
    "      position: relative;\n",
    "    }\n",
    "  </style>\n",
    "```"
   ]
  },
  {
   "cell_type": "markdown",
   "metadata": {},
   "source": [
    "**2. Required scripts**\n",
    "```\n",
    "  <script type=\"text/javascript\" src=\"https://cdn.jsdelivr.net/npm/vega@5\"></script>\n",
    "  <script type=\"text/javascript\" src=\"https://cdn.jsdelivr.net/npm/vega-lite@5.16.3\"></script>\n",
    "  <script type=\"text/javascript\" src=\"https://cdn.jsdelivr.net/npm/vega-embed@6\"></script>\n",
    "```"
   ]
  },
  {
   "cell_type": "markdown",
   "metadata": {},
   "source": [
    "**3. A `div` that holds the chart**\n",
    "```\n",
    "<div id=\"vis\"></div>\n",
    "```"
   ]
  },
  {
   "cell_type": "markdown",
   "metadata": {},
   "source": [
    "**4. The script with the chart specification**\n",
    "```\n",
    "<script>\n",
    "    (function(vegaEmbed) {\n",
    "      var spec = {\"config\": {\"view\": {\"continuousWidth\": 300, \"continuousHeight\": 300}}, \"data\": {\"url\": \"https://cdn.jsdelivr.net/npm/vega-datasets@v1.29.0/data/cars.json\"}, \"mark\": {\"type\": \"circle\", \"opacity\": 0.5, \"size\": 80}, \"encoding\": {\"color\": {\"field\": \"Origin\", \"type\": \"nominal\"}, \"x\": {\"field\": \"Horsepower\", \"type\": \"quantitative\"}, \"y\": {\"field\": \"Miles_per_Gallon\", \"type\": \"quantitative\"}}, \"params\": [{\"name\": \"param_50\", \"select\": {\"type\": \"point\", \"fields\": [\"cutoff\"]}, \"bind\": {\"input\": \"range\", \"max\": 230.0, \"min\": 46.0, \"name\": \"cutoff\", \"step\": 1}, \"value\": 230.0}], \"transform\": [{\"filter\": \"(datum.Horsepower < param_50.cutoff)\"}], \"$schema\": \"https://vega.github.io/schema/vega-lite/v5.8.0.json\"};\n",
    "      var embedOpt = {\"mode\": \"vega-lite\"};\n",
    "\n",
    "      function showError(el, error){\n",
    "          el.innerHTML = ('<div style=\"color:red;\">'\n",
    "                          + '<p>JavaScript Error: ' + error.message + '</p>'\n",
    "                          + \"<p>This usually means there's a typo in your chart specification. \"\n",
    "                          + \"See the javascript console for the full traceback.</p>\"\n",
    "                          + '</div>');\n",
    "          throw error;\n",
    "      }\n",
    "      const el = document.getElementById('vis');\n",
    "      vegaEmbed(\"#vis\", spec, embedOpt)\n",
    "        .catch(error => showError(el, error));\n",
    "    })(vegaEmbed);\n",
    "\n",
    "  </script>\n",
    "```"
   ]
  },
  {
   "cell_type": "markdown",
   "metadata": {},
   "source": [
    "If we want to put multiple charts in a single html file, we just need to create one div for each chart, and include the corresponding script for each one.\n",
    "\n",
    "We need to give each chart a distinct ID, and change that in three places: in the div, and in two places in the chart script:\n",
    "- in the div: `<div id=\"myFirstChart\"></div>`\n",
    "- in the getElementById function: `const el = document.getElementById('myFirstChart');`\n",
    "- in the vegaEmbed function: `vegaEmbed(\"#myFirstChart\", spec, embedOpt)`"
   ]
  },
  {
   "cell_type": "markdown",
   "metadata": {},
   "source": [
    "We can also add additional HTML elements around the divs, e.g.\n",
    "\n",
    "```\n",
    "<h1>Chart 1</h1>\n",
    "<div id=\"chart1\"></div>\n",
    "<h1>Chart 2</h1>\n",
    "<div id=\"chart2\"></div>\n",
    "```"
   ]
  },
  {
   "cell_type": "code",
   "execution_count": null,
   "metadata": {},
   "outputs": [],
   "source": []
  }
 ],
 "metadata": {
  "celltoolbar": "Slideshow",
  "colab": {
   "collapsed_sections": [],
   "name": "si649f19 lab4 demo answer_ver.ipynb",
   "provenance": []
  },
  "kernelspec": {
   "display_name": "si649w25",
   "language": "python",
   "name": "python3"
  },
  "language_info": {
   "codemirror_mode": {
    "name": "ipython",
    "version": 3
   },
   "file_extension": ".py",
   "mimetype": "text/x-python",
   "name": "python",
   "nbconvert_exporter": "python",
   "pygments_lexer": "ipython3",
   "version": "3.13.1"
  }
 },
 "nbformat": 4,
 "nbformat_minor": 4
}
