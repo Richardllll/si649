{
 "cells": [
  {
   "cell_type": "markdown",
   "metadata": {},
   "source": [
    "# **SI649 W25 Altair Interaction Homework #4**\n",
    "\n",
    "# Overview\n",
    "\n",
    "We will create 4 visualizations about winners of the FIFA soccer World Cup.\n",
    "\n",
    "The total points of this assignment is **10**:\n",
    "* 2 points for each visualization (x 4)\n",
    "* 2 points for embedding all the visualization in a single HTML file\n",
    "\n",
    "For this lab, please write Altair code to answer the questions. It's fine if your visualization looks slightly different from the example (e.g., getting 1.1 instead of 1.0, use orange instead of red, have different titles, chart width/height,and mark size/opacity). The screenshots are taken in Visual Studio Code with dark mode turned on, so the color choices are based on this configuration. Please adapt colors for readability if you use another mode, e.g., light mode.\n",
    "\n",
    "When you are finished, upload your .ipynb notebook and html file to Canvas\n",
    "\n",
    "## Resources:\n",
    "- Altair Interactive charts gallery: [https://altair-viz.github.io/gallery/index.html#interactive-charts](https://altair-viz.github.io/gallery/index.html#interactive-charts)\n",
    "\n",
    "## General Hints: \n",
    "* We recommend that you finish all the static charts before adding interactions. \n",
    "* If you see duplicated axes, use `axis=None` to get rid of unnecessary axes.  \n",
    "* `resolve_scale` ensures charts share axes and scales. \n"
   ]
  },
  {
   "cell_type": "code",
   "execution_count": null,
   "metadata": {},
   "outputs": [],
   "source": [
    "# start with the setup\n",
    "\n",
    "# supress warnings about future deprecations\n",
    "import warnings\n",
    "warnings.simplefilter(action='ignore', category=FutureWarning)\n",
    "\n",
    "import pandas as pd\n",
    "pd.options.mode.chained_assignment = None\n",
    "\n",
    "import altair as alt\n",
    "import numpy as np\n",
    "import pprint\n",
    "import datetime as dt\n",
    "from vega_datasets import data\n",
    "import matplotlib.pyplot as plt\n",
    "\n",
    "# Solve a javascript error by explicitly setting the renderer\n",
    "alt.renderers.enable('jupyterlab')\n"
   ]
  },
  {
   "cell_type": "code",
   "execution_count": null,
   "metadata": {},
   "outputs": [],
   "source": [
    "#load data\n",
    "df1 = pd.read_csv(\"https://raw.githubusercontent.com/jfjelstul/worldcup/refs/heads/master/data-csv/goals.csv\")\n",
    "df2 = pd.read_csv(\"https://raw.githubusercontent.com/jfjelstul/worldcup/refs/heads/master/data-csv/tournaments.csv\")\n",
    "df3 = pd.read_csv(\"https://raw.githubusercontent.com/jfjelstul/worldcup/refs/heads/master/data-csv/matches.csv\")\n",
    "\n",
    "#Hint: The fields are described here: https://github.com/jfjelstul/worldcup/blob/master/codebook/csv/variables.csv"
   ]
  },
  {
   "cell_type": "code",
   "execution_count": null,
   "metadata": {},
   "outputs": [],
   "source": [
    "#Create List of World Cup (WC) winners\n",
    "\n",
    "#Only consider WCs since 1950 and simplify DataFrame by removing and renaming columns\n",
    "tournament_ids = [\"WC-\" + str(x) for x in range(1950,2023,4)] \n",
    "df_wc_winners = df2[df2[\"tournament_id\"].isin(tournament_ids)][[\"tournament_id\", \"year\", \"winner\"]].replace(['West Germany'],'Germany').reset_index(drop=True)\n",
    "\n",
    "wc_winners = list(set(df_wc_winners[\"winner\"].to_list()))\n",
    "wc_winners.sort()\n",
    "\n",
    "wc_winners"
   ]
  },
  {
   "cell_type": "code",
   "execution_count": null,
   "metadata": {},
   "outputs": [],
   "source": [
    "#Simplify DataFrame on matches at WC tournaments by removing and renaming columns\n",
    "match_cols = [\"tournament_id\", \"match_id\", \"home_team_name\",\"away_team_name\",\"home_team_score\",\"away_team_score\", \"home_team_win\", \"away_team_win\", \"draw\"]\n",
    "df4 = df3[df3[\"tournament_id\"].isin(tournament_ids)][match_cols].replace(['West Germany'],'Germany')"
   ]
  },
  {
   "cell_type": "code",
   "execution_count": null,
   "metadata": {},
   "outputs": [],
   "source": [
    "#Prepare data for Part 1\n",
    "\n",
    "#Create DataFrame with goals WC winners scored at WC matches since 1950\n",
    "df5 = df4[df4[\"away_team_name\"].isin(wc_winners)].rename(columns={'away_team_name': 'team', 'away_team_score': 'score'}).drop(columns=[\"home_team_name\", \"home_team_score\"])\n",
    "df6 = df4[df4[\"home_team_name\"].isin(wc_winners)].rename(columns={'home_team_name': 'team', 'home_team_score': 'score'}).drop(columns=[\"away_team_name\", \"away_team_score\"])\n",
    "df7 = pd.concat([df5,df6]).sort_values(by=['tournament_id','match_id']).drop(columns=[\"home_team_win\", \"away_team_win\", \"draw\"])\n",
    "df_goals_winners_per_match = df7.merge(df_wc_winners, on=\"tournament_id\")\n",
    "\n",
    "df_goals_winners_per_match.head()"
   ]
  },
  {
   "cell_type": "code",
   "execution_count": null,
   "metadata": {},
   "outputs": [],
   "source": [
    "#Prepare data for Part 2\n",
    "\n",
    "#Simplify DataFrame on WC matches by removing and renaming columns\n",
    "df8 = df4[df4[\"away_team_name\"].isin(wc_winners) & df4[\"home_team_name\"].isin(wc_winners)].reset_index(drop=True)\n",
    "\n",
    "#For the two halfs of the heatmap, copy and add mirrored match data (i.e. away and home team are reversed)\n",
    "df_wc_winner_matchups = pd.concat([df8,df8.rename(columns={'home_team_name': 'away_team_name', 'away_team_name': 'home_team_name', \n",
    "                                                                             'home_team_score': 'away_team_score', 'away_team_score': 'home_team_score', \n",
    "                                                                             'home_team_win': 'away_team_win', 'away_team_win': 'home_team_win'})])\n",
    "#Add a year field\n",
    "df_wc_winner_matchups['year'] = pd.to_numeric(df_wc_winner_matchups['tournament_id'].str.replace(\"WC-\", ''), downcast='integer', errors='coerce')\n",
    "\n",
    "df_wc_winner_matchups.head()"
   ]
  },
  {
   "cell_type": "code",
   "execution_count": null,
   "metadata": {},
   "outputs": [],
   "source": [
    "#Prepare data for Part 3 and 4\n",
    "\n",
    "#Simplify DataFrame so it lists at which minute teams scored a goal (own goals are ignored in this exercise)\n",
    "df_goals = df1[[\"goal_id\", \"tournament_id\", \"match_id\", \"team_name\", \"minute_label\"]]\n",
    "df_goals['minute'] = pd.to_numeric(df_goals['minute_label'].str.replace(\"'\", ''), downcast='integer', errors='coerce')\n",
    "df_goals = df_goals.drop(columns=[\"minute_label\"])\n",
    "\n",
    "df_goals.head()"
   ]
  },
  {
   "cell_type": "markdown",
   "metadata": {},
   "source": [
    "# Visualization 1: Goals of World Cup Winners since 1950\n",
    "\n",
    "We will replicate the following visualization: <br>\n",
    "<img src=\"https://raw.githubusercontent.com/grill/SI649-hw-interaction/main/line.png?raw=true\" alt=\"drawing\" width=\"500\"/>\n",
    "\n",
    "\n",
    "\n",
    "\n",
    "**Description of the visualization (static):**\n",
    "*   Use *df_goals_winners_per_match* for this exercise\n",
    "*   This visualization has 3 components: **bar chart**, **vertical line**, and **average value text** \n",
    "*   All 3 components share the same x axis, which displays the *average* number of goals per match of teams that won the World Cup since the 1950s.\n",
    "*   The bar chart has a low opacity because we want to add interactions (see the next cell). "
   ]
  },
  {
   "cell_type": "markdown",
   "metadata": {},
   "source": [
    "**Description of the visualization (interactivity):**\n",
    "1. When hovering over bars, the associated average score will show up as tooltips. <br>\n",
    "<img src=\"https://raw.githubusercontent.com/grill/SI649-hw-interaction/main/line_tooltip.gif?raw=true\" alt=\"drawing\" width=\"500\"/>\n",
    "2. Brushing over the bars will change the opacity of the bars.\n",
    "3. Brushing over the bars will generate different average score value lines. <br>\n",
    "<img src=\"https://raw.githubusercontent.com/grill/SI649-hw-interaction/main/line_hover.gif?raw=true\" alt=\"drawing\" width=\"500\"/>\n",
    "\n",
    "**Sample style settings (optional):**\n",
    "Here's a list of default style settings we used to generate the graph.\n",
    "* Original opacity for the bar chart: 0.6. \n",
    "* Brushed opacity: 1\n",
    "* Bar height = 15\n",
    "* Vertical line size = 3, color = \"firebrick\"\n",
    "* Text color='firebrick', fontSize=12, align='left', dx=7\n",
    "* after building the compound chart, use the following line to disable border : `.configure_view(strokeWidth=0)`\n",
    "\n",
    "Hint:\n",
    "* We recommend getting all static components working before writing any interactivity. \n",
    "* Add one interaction at a time and test whether or not it works. \n",
    "* To add an interaction that's not tooltip and zooming, you need four steps (review in-class demo). \n",
    "* Selection is used in two scenarios: 1) to add to a *condition*, which is used in `encode`. 2) to add in `transform_filter`. In this visualization, you will implement both. Think through which you will use where before trying to build this."
   ]
  },
  {
   "cell_type": "code",
   "execution_count": null,
   "metadata": {},
   "outputs": [],
   "source": [
    "##TODO: replicate vis 1 \n",
    "\n",
    "##base chart (define calculated and aggregated fields needed across all charts)\n",
    "\n",
    "##Create selection\n",
    "\n",
    "##Static Component - Bars\n",
    "\n",
    "##Static Component - Vertical Line\n",
    "\n",
    "##Static Component - Text\n",
    "\n",
    "##Put all together"
   ]
  },
  {
   "cell_type": "markdown",
   "metadata": {},
   "source": [
    "# Visualization 2: Matchups of World Cup winners\n",
    "\n",
    "We will replicate the following visualization: <br>\n",
    "<img src=\"https://raw.githubusercontent.com/grill/SI649-hw-interaction/main/heat.png?raw=true\" alt=\"drawing\" width=\"500\"/>\n",
    "\n",
    "**Description of the visualization (static):**\n",
    "*   Use *df_wc_winner_matchups* for this exercise\n",
    "*   This visualization has 2 components: **heatmap** and **text charts** \n",
    "*   Look in the example gallery for inspiration for how to build the 1st and 2nd component (especially in sections \"Simple Charts\", \"Advanced Calculations\" and \"Case Studies\"): https://altair-viz.github.io/gallery/"
   ]
  },
  {
   "cell_type": "markdown",
   "metadata": {},
   "source": [
    "**Description of the visualization (interactivity):**\n",
    "1. When brushing over colored boxes in the heatmap, the associated text will be filtered/updated. <br>\n",
    "<img src=\"https://raw.githubusercontent.com/grill/SI649-hw-interaction/main/heat_interaction.gif?raw=true\" alt=\"drawing\" width=\"500\"/>\n",
    "\n",
    "**Sample style settings (optional):**\n",
    "Here's a list of default style settings we used to generate the graph.\n",
    "* The range of the color scale is set to ['red', \"white\", 'green'] and domainMid is set to 0. \n",
    "* The label angle on the x axis of the heatmap is set to 50.\n",
    "* There is a spacing of 5 between the concatenated text charts. Also, don't forget to share the y axis.\n",
    "* The x scale is of the text charts display the ⚽ emoji is set to: domain -1 - 8\n",
    "* The text size of the ⚽ is set to 30 and the baseline of the right and left text chart are set to 'middle'.\n",
    "* after building the compound chart, use the following line to disable border : `.configure_view(strokeWidth=0)`\n"
   ]
  },
  {
   "cell_type": "code",
   "execution_count": null,
   "metadata": {},
   "outputs": [],
   "source": [
    "#TODO: replicate vis2\n",
    "soccer_ball = \"⚽\"\n",
    "\n",
    "# base chart (define calculated fields needed across all charts)\n",
    "# Hint: You can define here also fields that you use later for group by and the selection\n",
    "\n",
    "# Create selection\n",
    "# Hint: You can also specify encodings used in the selection that are not visible in the chart (like description).\n",
    "\n",
    "# heatmap\n",
    "\n",
    "# text chart displaying competing teams\n",
    "\n",
    "# text chart for left goal indicator using ⚽ emoji\n",
    "\n",
    "# text chart in the middle displaying score and year\n",
    "\n",
    "# text chart for right goal indicator using ⚽ emoji\n",
    "\n",
    "# Put them all together\n"
   ]
  },
  {
   "cell_type": "markdown",
   "metadata": {},
   "source": [
    "# Visualization 3: Timing of World Cup Goals\n",
    "\n",
    "We will replicate the following visualization: <br>\n",
    "<img src=\"https://raw.githubusercontent.com/grill/SI649-hw-interaction/main/linegoal.png?raw=true\" alt=\"drawing\" width=\"500\"/>\n",
    "\n",
    "**Description of the visualization (static):**\n",
    "*   Use *df_goals* for this exercise\n",
    "*   This visualization has 4 components: **line chart**, **vertical line**, **points** and **texts** \n",
    "\n",
    "**Description of the visualization (interactive):**\n",
    "1. Enable zooming and panning along the x-axis. (The gif below only displays the line chart.) <br>\n",
    "<img src=\"https://raw.githubusercontent.com/grill/SI649-hw-interaction/main/linegoal_zoom.gif?raw=true\" alt=\"drawing\" width=\"500\"/>\n",
    "2. Display a vertical line that moves with the mouse. This will require you to add additional chart component(let's call it **vLine**). <br>\n",
    "<img src=\"https://raw.githubusercontent.com/grill/SI649-hw-interaction/main/linegoal_moveline.gif?raw=true\" alt=\"drawing\" width=\"500\"/>\n",
    "3. Display the intersection of the **vLine** with the **line chart** as 1 circle (let's call this circle **intersection dot**). \n",
    "4. When hovering over this **intersection dot**, display *how many goals were scored this minute* in text label.   <br>\n",
    "<img src=\"https://raw.githubusercontent.com/grill/SI649-hw-interaction/main/linegoal_points.gif?raw=true\" alt=\"drawing\" width=\"500\"/>\n",
    "\n",
    "**Sample style settings (optional):**\n",
    "Here's a list of default style settings we used to generate the graph.\n",
    "\n",
    "* line chart size = 2.5, \n",
    "* vLine: size=3, color=\"lightgray\", initial opacity = 0 \n",
    "* indicator dot: size=90\n",
    "* text label: fontSize=14, align='left', dx=7\n",
    "* x scale: domain 0 - 80\n",
    "\n",
    "**Hint**\n",
    "\n",
    "\n",
    "* We only want to enable zooming and panning along the x-axis.\n",
    "*  There are multiple ways of implementing the **vLine**. Here is one of them: \n",
    "> 1) use mark_rule to generate a line for every single data point and set these line's opacity to be 0.\n",
    "\n",
    "> 2) when mouse hovering over a line, display it by changing its opacity. \n",
    "\n",
    "*  The implementation of the **intersection dots** is similar to that of the **vLine**. Do you need a new selection/condition for the **intersection dots**?"
   ]
  },
  {
   "cell_type": "code",
   "execution_count": null,
   "metadata": {},
   "outputs": [],
   "source": [
    "#TODO: replicate vis3\n",
    "\n",
    "# Create a selection for zooming and panning across the x-axis\n",
    "\n",
    "# Create a selection and condition for the vertical line, annotation dots, and text annotations\n",
    "\n",
    "# Create the base chart and filter to All polls\n",
    "\n",
    "# Static line chart\n",
    "\n",
    "# Vertical line\n",
    "\n",
    "#interaction dots\n",
    "\n",
    "#interaction text labels\n",
    "\n",
    "#Put them all together\n"
   ]
  },
  {
   "cell_type": "markdown",
   "metadata": {},
   "source": [
    "# Visualization 4: Zooming in on Goals of World Cup winners since 1950\n",
    "\n",
    "We will replicate the following visualization: <br>\n",
    "<img src=\"https://raw.githubusercontent.com/grill/SI649-hw-interaction/main/zoom.png?raw=true\" alt=\"drawing\" width=\"800\"/>\n",
    "\n",
    "**Description of the visualization (static):**\n",
    "*   Use *df_goals* for this exercise\n",
    "*   This visualization has 2 components: **scatter chart original** and **line chart zoomed in** \n",
    "\n",
    "**Description of the visualization (interactivity):**\n",
    "1. Build drop down selections for the home and away team. Theoretically, two teams will be shown at any given time. <br>\n",
    "<img src=\"https://raw.githubusercontent.com/grill/SI649-hw-interaction/main/zoom_select.gif?raw=true\" alt=\"drawing\" width=\"400\"/>\n",
    "2. Brushing over the scatter chart will change the color of the points. <br>\n",
    "<img src=\"https://raw.githubusercontent.com/grill/SI649-hw-interaction/main/zoom_mouse_select.gif?raw=true\" alt=\"drawing\" width=\"400\"/>\n",
    "3. Brushing over the scatter chart will filter out the associated time interval to create a line chart. <br>\n",
    "<img src=\"https://raw.githubusercontent.com/grill/SI649-hw-interaction/main/zoom_interaction.gif?raw=true\" alt=\"drawing\" width=\"800\"/>\n",
    "\n",
    "\n",
    "**Sample style settings (optional):**\n",
    "Here's a list of default style settings we used to generate the graph.\n",
    "\n",
    "* scatter chart size = 1,\n",
    "* line chart size = 2.5 \n",
    "* Original color=\"lightgray\"\n",
    "* y scale: domain 0 - 15\n",
    "\n",
    "**Hint**\n",
    "\n",
    "* You will have 2 types of selection. One for the team selection and one for the time selection. Ensure that these two interactions work independently before merging them together. "
   ]
  },
  {
   "cell_type": "code",
   "execution_count": null,
   "metadata": {},
   "outputs": [],
   "source": [
    "## TODO: replicate vis4\n"
   ]
  },
  {
   "cell_type": "markdown",
   "metadata": {},
   "source": [
    "# Final part"
   ]
  },
  {
   "cell_type": "markdown",
   "metadata": {},
   "source": [
    "Export all of your visualizations to HTML, then put them all into a single HTML file (as we covered in the lab this week).\n",
    "\n",
    "Upload this .html file to canvas, along with this notebook"
   ]
  }
 ],
 "metadata": {
  "kernelspec": {
   "display_name": "base",
   "language": "python",
   "name": "python3"
  },
  "language_info": {
   "codemirror_mode": {
    "name": "ipython",
    "version": 3
   },
   "file_extension": ".py",
   "mimetype": "text/x-python",
   "name": "python",
   "nbconvert_exporter": "python",
   "pygments_lexer": "ipython3",
   "version": "3.9.13"
  }
 },
 "nbformat": 4,
 "nbformat_minor": 4
}
