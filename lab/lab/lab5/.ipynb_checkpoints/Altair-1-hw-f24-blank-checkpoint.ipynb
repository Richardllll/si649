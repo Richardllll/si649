{
 "cells": [
  {
   "cell_type": "markdown",
   "metadata": {
    "colab_type": "text",
    "id": "-ZwSP80LwX06"
   },
   "source": [
    "# SI649-24 Fall -> Altair I\n",
    "## Overview \n",
    "We're going to re-create some of the visualizations we did in Tableau but this time using Altair for the article: [“The Dollar-And-Cents Case Against Hollywood’s Exclusion of Women”](https://fivethirtyeight.com/features/the-dollar-and-cents-case-against-hollywoods-exclusion-of-women/). We'll be teaching you different pieces of Altair over the next few weeks so we'll focus on just a few visualizations this time:\n",
    "\n",
    "1.   Replicate 1 visualizations in the original article  \n",
    "2.   Implementing 2 new visualizations according to our specifications\n",
    "\n",
    "**For this lab, we have done all of the necessary data transformation for you. You do not need to modify any DataFrame. You only need to write Altair code.**\n",
    "\n",
    "### Lab Instructions (read the full version on the handout of the previous lab)\n",
    "\n",
    "*   Save, rename, and submit the ipynb file (use your username in the name).\n",
    "*   Run every cell (do Runtime -> Restart and run all to make sure you have a clean working version), print to pdf, submit the pdf file. \n",
    "*   For each visualization, we will ask you to write down a \"Grammar of Graphics\" plan first (basically a description of what you'll code).\n",
    "*   If you end up stuck, show us your work by including links (URLs) that you have searched for. You'll get partial credit for showing your work in progress. \n",
    "*   There are many bonus point opportunities in this lab. \n",
    "\n",
    "We encourage you to go through the Altair tutorials before next week:\n",
    "- [UW Course](https://github.com/uwdata/visualization-curriculum)\n",
    "- [Altair tutorial](https://github.com/altair-viz/altair-tutorial)\n",
    "\n",
    "### Resources\n",
    "- [Altair Documentation](https://altair-viz.github.io/index.html)\n",
    "- [Markdown Cheatsheet](https://www.markdownguide.org/cheat-sheet/)\n",
    "- [Pandas DataFrame Introduction](https://pandas.pydata.org/pandas-docs/stable/getting_started/10min.html)\n"
   ]
  },
  {
   "cell_type": "code",
   "execution_count": null,
   "metadata": {
    "colab": {},
    "colab_type": "code",
    "id": "ivyqtid71Una"
   },
   "outputs": [],
   "source": [
    "# imports we will use\n",
    "import altair as alt\n",
    "import pandas as pd\n",
    "from collections import defaultdict\n",
    "alt.renderers.enable('html')#run this line if you are running jupyter notebook"
   ]
  },
  {
   "cell_type": "code",
   "execution_count": null,
   "metadata": {
    "colab": {},
    "colab_type": "code",
    "id": "MNM3Mfi_1f3P"
   },
   "outputs": [],
   "source": [
    "# load data and perform basic data processing \n",
    "# get the CSV\n",
    "datasetURL=\"https://raw.githubusercontent.com/dallascard/SI649_public/master/altair_hw1/movies_individual_task.csv\" \n",
    "movieDF=pd.read_csv(datasetURL, encoding=\"latin-1\")\n",
    "\n",
    "# fix the result column, rename the values, and combine \"dubious\" with \"ok\" as \"Passes Bechdel Test\"\n",
    "movieDF['test_result'] = movieDF['clean_test'].map({\n",
    "    \"ok\":\"Passes Bechdel Test\",\n",
    "    \"men\":'Women only talk about men',\n",
    "    \"notalk\":\"Women don't talk to each other\",\n",
    "    \"nowomen\":\"Fewer than two women\",\n",
    "    \"dubious\":\"Passes Bechdel Test\"\n",
    "})\n",
    "\n",
    "# fix the location column to combine US and Canada\n",
    "locationDict = defaultdict(lambda: 'International')\n",
    "locationDict[\"United States\"]=\"U.S. and Canada\"\n",
    "locationDict[\"Canada\"]=\"U.S. and Canada\"\n",
    "movieDF[\"country_binary\"]=movieDF[\"country\"].map(locationDict)\n",
    "\n",
    "##calculate ROI (Return on Investment) both domestic (US and Canada) and international\n",
    "movieDF[\"roi_dom\"]=movieDF[\"domgross_2013$\"]/movieDF[\"budget_2013$\"]\n",
    "movieDF[\"int_only_gross\"]=movieDF[\"intgross_2013$\"]-movieDF[\"domgross_2013$\"]\n",
    "movieDF[\"roi_int\"]=movieDF[\"int_only_gross\"]/movieDF[\"budget_2013$\"]\n",
    "\n",
    "# drop the columns we won't need\n",
    "movieDF=movieDF.drop(columns=[\"Unnamed: 0\",\"test\",\"budget\",\"domgross\",\"intgross\",\"code\",\"period code\",\"decade code\",\"director\",\"imdb\"])\n",
    "\n",
    "# Make a copy of the data frame that excludes movies from before 1990\n",
    "movieDF_since_1990=movieDF[movieDF.year>1989]\n",
    "\n",
    "#take a look at the new dataset\n",
    "movieDF_since_1990.sample(3)"
   ]
  },
  {
   "cell_type": "markdown",
   "metadata": {
    "colab_type": "text",
    "id": "GcqX43qD11-E"
   },
   "source": [
    "## Part 1: Recreate this visualization \n",
    "\n",
    "![](https://github.com/dallascard/SI649_public/blob/main/altair_hw1/viz1-orig.png?raw=True)\n",
    "\n",
    "\n",
    "\n"
   ]
  },
  {
   "cell_type": "markdown",
   "metadata": {
    "colab_type": "text",
    "id": "qyz3gsDh18M9"
   },
   "source": [
    "### Step 1: Write down your plan for each part of this chart:\n",
    "\n",
    "For each chart, we are asking you to write a Grammar of Graphics plan for the chart. This involves writing down 1) the dataset you will use; 2) the type of mark you will use (e.g., bar, line, point, etc.), and 3) for each visual channel (e.g., position, color, etc.), the corresponding variable name (e.g., year, ROI, etc.) and data type (i.e., ordinal, nominal, or quantitative). Please use the following format:\n",
    "\n",
    "*   Data Name: _dataset_\n",
    "*   Mark type: _mark type_\n",
    "*   Encoding Specification: \n",
    "    * _channel:variable:datatype_\n",
    "    * _channel:variable:datatype_\n",
    "    * ...\n",
    " \n",
    "Hint: you should provide encoding specifications for both x and y, using the format channel:variable:datatype\n",
    "For example, if we wanted to encode a nominal variable called \"movietype\" as the color, we would write:\n",
    "- color : movietype : nominal\n",
    "\n"
   ]
  },
  {
   "cell_type": "markdown",
   "metadata": {
    "jp-MarkdownHeadingCollapsed": true
   },
   "source": [
    "### *** Edit this cell to be your visualization plan (required) ***:\n",
    "\n",
    "Left Chart:\n",
    "*   Data Name: movieDF_since_1990\n",
    "*   mark type: *TODO: write your answer here (e.g., point or area)*\n",
    "*   Encoding Specification:  \n",
    "    * *TODO: write your answer here* (channel : variable : datatype)\n",
    "    * *TODO: write your answer here* (channel : variable : datatype)\n",
    "\n",
    "Right Chart:\n",
    "\n",
    "* *TODO: fill in this part*\n",
    "\n",
    "Compound Method (how to join these charts together?): *TODO: write your answer here*\n",
    "\n"
   ]
  },
  {
   "cell_type": "markdown",
   "metadata": {
    "colab_type": "text",
    "id": "lidNtu_iPzHi"
   },
   "source": [
    "### Step 2: Create your chart. \n",
    "\n",
    "Please use the checkpoints below to work through the problem step-by-step. You can search for the keyword \"TODO\" to locate cells that need your edits\n"
   ]
  },
  {
   "cell_type": "markdown",
   "metadata": {
    "colab_type": "text",
    "id": "zYDIQ9W1VJgF"
   },
   "source": [
    "### Visualization 1 Checkpoints\n"
   ]
  },
  {
   "cell_type": "markdown",
   "metadata": {
    "colab_type": "text",
    "id": "vc_NFL0vcDC9"
   },
   "source": [
    "#### checkpoint 1: create the left chart as a basic bar chart (Domestic ROI by Bechdel test category)\n",
    " \n",
    "*  Specify the correct mark \n",
    "*  Use the correct x and y encoding \n",
    "*  Plotting the right data (hint: make sure you examine the data frame and use the correct columns)\n",
    "\n",
    "\n",
    "You chart will look like:\n",
    "\n",
    "![](https://github.com/dallascard/SI649_public/blob/main/altair_hw1/viz1-checkpoint1.png?raw=true&1) \n",
    "\n"
   ]
  },
  {
   "cell_type": "code",
   "execution_count": null,
   "metadata": {},
   "outputs": [],
   "source": [
    "# TODO: Replicate checkpoint 1\n"
   ]
  },
  {
   "cell_type": "markdown",
   "metadata": {
    "colab_type": "text",
    "id": "JeCLclB-aJSJ"
   },
   "source": [
    "#### checkpoint 2: sort the categories on the y-axis\n",
    " \n",
    "* completed checkpoint1\n",
    "* applied the correct sort order to the values on the y-axis (i.e., from top to bottom, the order of the bars is \"Passes Bechdel Test\", \"Women only talk about men\", \"Women don't talk to each other\", \"Fewer than two women\")\n",
    "\n",
    "You chart will look like:\n",
    "\n",
    "![](https://github.com/dallascard/SI649_public/blob/main/altair_hw1/viz1-checkpoint2.png?raw=true&1) \n",
    "\n",
    "*Hint*: [Sort](https://altair-viz.github.io/user_guide/generated/core/altair.Sort.html)\n"
   ]
  },
  {
   "cell_type": "code",
   "execution_count": null,
   "metadata": {},
   "outputs": [],
   "source": [
    "# TODO: Replicate checkpoint 2\n"
   ]
  },
  {
   "cell_type": "markdown",
   "metadata": {
    "colab_type": "text",
    "id": "33LWIqIgeGPk"
   },
   "source": [
    "#### checkpoint 3: Add a chart title, and remove axis labels and x-axis\n",
    " \n",
    "* completed checkpoint2\n",
    "* add a chart title\n",
    "* remove the x and y-axis labels\n",
    "* remove the x-axis tick marks\n",
    "\n",
    "You chart will look like:\n",
    "\n",
    "![](https://github.com/dallascard/SI649_public/blob/main/altair_hw1/viz1-checkpoint3.png?raw=True) \n",
    "\n",
    "*Hint*: [Axis](https://altair-viz.github.io/user_guide/generated/core/altair.Axis.html)\n"
   ]
  },
  {
   "cell_type": "code",
   "execution_count": null,
   "metadata": {},
   "outputs": [],
   "source": [
    "# TODO: Replicate checkpoint 3\n"
   ]
  },
  {
   "cell_type": "markdown",
   "metadata": {
    "colab_type": "text",
    "id": "NOk-8oQ2e_UL"
   },
   "source": [
    "#### checkpoint 4: Reshape the plot\n",
    " \n",
    "* completed checkpoint 3\n",
    "* Reshape the plot to have both width and height equal to 100\n",
    "\n",
    "You chart will look like:\n",
    "\n",
    "![](https://github.com/dallascard/SI649_public/blob/main/altair_hw1/viz1-checkpoint4.png?raw=True&1) \n",
    "\n",
    "Hint: set the width and height properties of the chart"
   ]
  },
  {
   "cell_type": "code",
   "execution_count": null,
   "metadata": {},
   "outputs": [],
   "source": [
    "# TODO: Replicate checkpoint 4\n"
   ]
  },
  {
   "cell_type": "markdown",
   "metadata": {
    "colab_type": "text",
    "id": "zuEJor6FaS2C"
   },
   "source": [
    "#### checkpoint 5: Add a text layer with the numbers for each bar\n",
    " \n",
    "* completed checkpoint 4\n",
    "* add the numbers for each bar with correct formatting (two decimal places)\n",
    "\n",
    "You chart will look like:\n",
    "\n",
    "![](https://github.com/dallascard/SI649_public/blob/main/altair_hw1/viz1-checkpoint5.png?raw=True&1) \n",
    "\n",
    "Hint 1: In Altair you can overlay two charts on top of each other using the \"+\" notation (e.g., `chart1 + chart 2`)\n",
    "\n",
    "Hint 2: You can create a text layer that inherits everything from the base layer by using `base.mark_text().encode(text=\"...\")`, where `base` is the name of the base bar chart, and the \"...\" is the data to show as text\n",
    "\n",
    "Hint 3: Use the \"dx\" property of mark_text() to nudge the text left or right (see https://altair-viz.github.io/gallery/bar_chart_with_labels.html)"
   ]
  },
  {
   "cell_type": "code",
   "execution_count": null,
   "metadata": {},
   "outputs": [],
   "source": [
    "# TODO: Replicate checkpoint 5\n"
   ]
  },
  {
   "cell_type": "markdown",
   "metadata": {
    "colab_type": "text",
    "id": "2a_vAPSehIlz"
   },
   "source": [
    "#### checkpoint 6: remove the x-axis line and chart box, and increase the padding between bars\n",
    " \n",
    "* completed checkpoint 5\n",
    "* remove the x-axis line\n",
    "* remove the box around the figure\n",
    "* increase the padding between bars\n",
    "\n",
    "You chart will look like:\n",
    "\n",
    "![](https://github.com/dallascard/SI649_public/blob/main/altair_hw1/viz1-checkpoint6.png?raw=True) \n",
    "\n",
    "Hint 1: You can make use of configure_axis() and configure_view() of the overall view (base and text layer combined)\n",
    "Hint 2: There are multiple ways to increase the spacing between bars"
   ]
  },
  {
   "cell_type": "code",
   "execution_count": null,
   "metadata": {},
   "outputs": [],
   "source": [
    "# TODO: Replicate checkpoint 6\n"
   ]
  },
  {
   "cell_type": "markdown",
   "metadata": {},
   "source": [
    "#### checkpoint 7: create the right chart using International ROI with the same stylings as the left chart\n",
    " \n",
    "* completed checkpoint 6\n",
    "* create the right chart with the same stylings as the left chart\n",
    "    * correct data\n",
    "    * correct mark\n",
    "    * correct encoding\n",
    "    * apply correct sort order\n",
    "    * no x-and y-axis labels\n",
    "    * no x-axis\n",
    "    * no box on chart\n",
    "    * text lables with proper formatting and alignment\n",
    "    * include the title for International ROI\n",
    "\n",
    "You chart will look like:\n",
    "\n",
    "![](https://github.com/dallascard/SI649_public/blob/main/altair_hw1/viz1-checkpoint7.png?raw=True) \n"
   ]
  },
  {
   "cell_type": "code",
   "execution_count": null,
   "metadata": {},
   "outputs": [],
   "source": [
    "# TODO: Replicate checkpoint 7\n"
   ]
  },
  {
   "cell_type": "markdown",
   "metadata": {},
   "source": [
    "#### checkpoint 8: remove y-axis labels and change color\n",
    " \n",
    "* completed checkpoint 7\n",
    "* remove y-axis labels\n",
    "* set the bar color\n",
    "\n",
    "You chart will look like:\n",
    "\n",
    "![](https://github.com/dallascard/SI649_public/blob/main/altair_hw1/viz1-checkpoint8.png?raw=True) \n",
    "\n"
   ]
  },
  {
   "cell_type": "code",
   "execution_count": null,
   "metadata": {},
   "outputs": [],
   "source": [
    "# TODO: Replicate checkpoint 8\n"
   ]
  },
  {
   "cell_type": "markdown",
   "metadata": {},
   "source": [
    "#### checkpoint 9: combine the two charts together\n",
    " \n",
    "* display both completed charts side by side\n",
    "\n",
    "You chart will look like:\n",
    "\n",
    "![](https://github.com/dallascard/SI649_public/blob/main/altair_hw1/viz1-checkpoint9.png?raw=True) \n",
    "\n",
    "Hint: You will need to move your view and axis configurations to the overall combined chart!"
   ]
  },
  {
   "cell_type": "code",
   "execution_count": null,
   "metadata": {},
   "outputs": [],
   "source": [
    "# TODO: Replicate checkpoint 9\n"
   ]
  },
  {
   "cell_type": "markdown",
   "metadata": {},
   "source": [
    "#### BONUS: add an overall title and add dollar symbols to text marks\n",
    " \n",
    "* complete checkpoint 9\n",
    "* add an overall title\n",
    "* add dollar signs to text labels\n",
    "\n",
    "You chart will look like:\n",
    "\n",
    "![](https://github.com/dallascard/SI649_public/blob/main/altair_hw1/viz1-bonus-checkpoint.png?raw=True) \n",
    "\n"
   ]
  },
  {
   "cell_type": "code",
   "execution_count": null,
   "metadata": {},
   "outputs": [],
   "source": [
    "# BONUS: replicate the bonus checkpoint (optional)\n"
   ]
  },
  {
   "cell_type": "markdown",
   "metadata": {
    "colab_type": "text",
    "id": "JADC_NvGlD_p"
   },
   "source": [
    "## Visualization 2: Replicate this visualization"
   ]
  },
  {
   "cell_type": "markdown",
   "metadata": {
    "colab_type": "text",
    "id": "B1GP-tkvlUrH"
   },
   "source": [
    "![](https://github.com/dallascard/SI649_public/blob/main/altair_hw1/viz2-checkpoint3.png?raw=True) "
   ]
  },
  {
   "cell_type": "markdown",
   "metadata": {
    "colab_type": "text",
    "id": "s2r8T43_lXBD"
   },
   "source": [
    "### *** Step 1: Write down your plan for the visualization (required) ***\n",
    "\n",
    "*   Data Name: *movieDF*\n",
    "*   mark type: *TODO: write your answer here*\n",
    "*   Encoding Specification (1st chart):  \n",
    "    * *TODO: write your answer here* (channel : variable : datatype)\n",
    "    * *TODO: write your answer here* (channel : variable : datatype)\n",
    "*   Encoding Specification (2nd chart):  \n",
    "    * *TODO: write your answer here* (channel : variable : datatype)\n",
    "    * *TODO: write your answer here* (channel : variable : datatype)\n",
    "*   Encoding Specification (3rd chart):  \n",
    "    * *TODO: write your answer here* (channel : variable : datatype)\n",
    "    * *TODO: write your answer here* (channel : variable : datatype)\n",
    "\n",
    "Compound Method (how to join these charts together?): *TODO: write your answer here*"
   ]
  },
  {
   "cell_type": "markdown",
   "metadata": {
    "colab_type": "text",
    "id": "9fK9NZnele_F"
   },
   "source": [
    "### Step 2: Create your chart. \n",
    "Please use the checkpoints below to work through the problem step-by-step. You can search for the keyword \"TODO\" to locate cells that need your edits\n"
   ]
  },
  {
   "cell_type": "markdown",
   "metadata": {
    "colab_type": "text",
    "id": "kS8FhfS1lu_3"
   },
   "source": [
    "### Visualization 2 Checkpoints"
   ]
  },
  {
   "cell_type": "markdown",
   "metadata": {
    "colab_type": "text",
    "id": "TdZEqKZhlzqQ"
   },
   "source": [
    "#### checkpoint 1: line chart for average, median, and max of budget \n",
    " \n",
    "You will get full points if you \n",
    "*  Specify the correct mark \n",
    "*  Use the correct x and y encoding \n",
    "*  Plotting the right data \n",
    "*  Produce 3 line charts concatenated vertically\n",
    "\n",
    "\n",
    "You chart will look like:\n",
    "\n",
    "![](https://github.com/dallascard/SI649_public/blob/main/altair_hw1/viz2-checkpoint1.png?raw=True) \n"
   ]
  },
  {
   "cell_type": "code",
   "execution_count": null,
   "metadata": {},
   "outputs": [],
   "source": [
    "#TODO: Replicate checkpoint 1\n"
   ]
  },
  {
   "cell_type": "markdown",
   "metadata": {
    "colab_type": "text",
    "id": "4h-D6m6zo-AX"
   },
   "source": [
    "#### checkpoint 2: adjust width,  height and color \n",
    "Each chart should be 500x100, plotted with different colors\n",
    " \n",
    "*  Complete checkpoint 1\n",
    "*  Adjust chart width and height\n",
    "*  Plot charts with different colors\n",
    "\n",
    "You chart will look like:\n",
    "\n",
    "![](https://github.com/dallascard/SI649_public/blob/main/altair_hw1/viz2-checkpoint2.png?raw=True) \n"
   ]
  },
  {
   "cell_type": "code",
   "execution_count": null,
   "metadata": {},
   "outputs": [],
   "source": [
    "#TODO: Replicate checkpoint 2\n"
   ]
  },
  {
   "cell_type": "markdown",
   "metadata": {
    "colab_type": "text",
    "id": "LriSxpeMqDHr"
   },
   "source": [
    "#### checkpoint 3: remove duplicated x-axis and adjust tick spacing\n",
    "\n",
    "You will get full points if you \n",
    "*  Complete checkpoint 2\n",
    "*  Remove duplicate x-axes from top and middle figures\n",
    "*  Set the bottom x-axes to have ticks every 5 years\n",
    "\n",
    "You chart will look like:\n",
    "\n",
    "![](https://github.com/dallascard/SI649_public/blob/main/altair_hw1/viz2-checkpoint3.png?raw=True) \n"
   ]
  },
  {
   "cell_type": "code",
   "execution_count": null,
   "metadata": {},
   "outputs": [],
   "source": [
    "#TODO: Replicate checkpoint 3\n"
   ]
  },
  {
   "cell_type": "markdown",
   "metadata": {
    "colab_type": "text",
    "id": "GsEItvxnqfzS"
   },
   "source": [
    "## Visualization 3: Replicate this visualization\n"
   ]
  },
  {
   "cell_type": "markdown",
   "metadata": {
    "colab_type": "text",
    "id": "hgS_9oYNqlyw"
   },
   "source": [
    "![](https://github.com/dallascard/SI649_public/blob/main/altair_hw1/viz3-checkpoint4.png?raw=True) "
   ]
  },
  {
   "cell_type": "markdown",
   "metadata": {
    "colab_type": "text",
    "id": "INIMxJKcrtim"
   },
   "source": [
    "### *** Step 1: Write down your plan for the visualization, for all four channels (required) ***\n",
    "\n",
    "*   Data Name: *movieDF*\n",
    "*   mark type: *TODO: write your answer here*\n",
    "*   Encoding Specification:  \n",
    "    * *TODO: write your answer here* (channel : variable : datatype)\n",
    "    * *TODO: write your answer here* (channel : variable : datatype)\n",
    "    * *TODO: write your answer here* (channel : variable : datatype)\n",
    "    * *TODO: write your answer here* (channel : variable : datatype)\n",
    "\n",
    "\n",
    "\n",
    "\n"
   ]
  },
  {
   "cell_type": "markdown",
   "metadata": {
    "colab_type": "text",
    "id": "9GsYkwvWr7Eu"
   },
   "source": [
    "### Step 2: Create your chart. \n",
    "Please use the checkpoints below to work through the problem step-by-step. You can search for the keyword \"TODO\" to locate cells that need your edits"
   ]
  },
  {
   "cell_type": "markdown",
   "metadata": {},
   "source": [
    "#### checkpoint 1: scatter plot of IMDB rating vs budget (in 2013 dollars)\n",
    " \n",
    "You will get full points if you \n",
    "*  Specify the correct mark \n",
    "*  Plotting the right data \n",
    "*  Use the correct x and y encoding \n",
    "\n",
    "You chart will look like:\n",
    "\n",
    "![](https://github.com/dallascard/SI649_public/blob/main/altair_hw1/viz3-checkpoint1.png?raw=True) \n"
   ]
  },
  {
   "cell_type": "code",
   "execution_count": null,
   "metadata": {},
   "outputs": [],
   "source": [
    "# TODO: replicate checkpoint 1\n"
   ]
  },
  {
   "cell_type": "markdown",
   "metadata": {},
   "source": [
    "#### checkpoint 2: add the color and size channels\n",
    " \n",
    "*  Complete checkpoint 1\n",
    "*  Add the color channel\n",
    "*  Add the size channel\n",
    "*  Plot the right data\n",
    "\n",
    "You chart will look like:\n",
    "\n",
    "![](https://github.com/dallascard/SI649_public/blob/main/altair_hw1/viz3-checkpoint2.png?raw=True&1) \n"
   ]
  },
  {
   "cell_type": "code",
   "execution_count": null,
   "metadata": {},
   "outputs": [],
   "source": [
    "# TODO: replicate checkpoint 2\n"
   ]
  },
  {
   "cell_type": "markdown",
   "metadata": {},
   "source": [
    "#### checkpoint 3: adjust the Legend for the size channel\n",
    " \n",
    "*  Complete checkpoint 2\n",
    "*  set the legend for the Size channel to explicitly include 0\n",
    "\n",
    "You chart will look like:\n",
    "\n",
    "![](https://github.com/dallascard/SI649_public/blob/main/altair_hw1/viz3-checkpoint3.png?raw=True) \n",
    "\n",
    "Hint: You will need to adjust the legend using alt.Legend() within alt.Size()\n"
   ]
  },
  {
   "cell_type": "code",
   "execution_count": null,
   "metadata": {},
   "outputs": [],
   "source": [
    "# TODO: replicate checkpoint 3\n"
   ]
  },
  {
   "cell_type": "markdown",
   "metadata": {},
   "source": [
    "#### checkpoint 4: adjust the Scale for the Size channel\n",
    " \n",
    "*  Complete checkpoint 3\n",
    "*  set the scale of the size channel to map the data onto the range 10 to 300 (this maps 0 in the data to a size of 10)\n",
    "\n",
    "You chart will look like:\n",
    "\n",
    "![](https://github.com/dallascard/SI649_public/blob/main/altair_hw1/viz3-checkpoint4.png?raw=True) \n",
    "\n",
    "Hint: You will need to adjust the scale of the size channel using alt.Scale()\n"
   ]
  },
  {
   "cell_type": "code",
   "execution_count": null,
   "metadata": {},
   "outputs": [],
   "source": [
    "# TODO: replicate checkpoint 4\n"
   ]
  },
  {
   "cell_type": "markdown",
   "metadata": {
    "colab_type": "text",
    "id": "9GsYkwvWr7Eu"
   },
   "source": [
    "*End of Lab*\n",
    "\n",
    "To submit your assignment:\n",
    "\n",
    "1. Please run all cells (Runtime > Run all), and make sure all the cells ran properly!!\n",
    "2. Make sure you have named your .ipynb file with your uniqname: i.e., uniqname.ipynb\n",
    "3. Upload your .ipynb file to Canvas. \n"
   ]
  },
  {
   "cell_type": "code",
   "execution_count": null,
   "metadata": {},
   "outputs": [],
   "source": []
  }
 ],
 "metadata": {
  "colab": {
   "collapsed_sections": [
    "84FJ3UeaBy-D"
   ],
   "name": "lab2_answer_ver.ipynb",
   "provenance": []
  },
  "kernelspec": {
   "display_name": "Python 3 (ipykernel)",
   "language": "python",
   "name": "python3"
  },
  "language_info": {
   "codemirror_mode": {
    "name": "ipython",
    "version": 3
   },
   "file_extension": ".py",
   "mimetype": "text/x-python",
   "name": "python",
   "nbconvert_exporter": "python",
   "pygments_lexer": "ipython3",
   "version": "3.11.5"
  }
 },
 "nbformat": 4,
 "nbformat_minor": 4
}
