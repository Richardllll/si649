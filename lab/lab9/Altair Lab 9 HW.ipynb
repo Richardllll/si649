{
 "cells": [
  {
   "cell_type": "markdown",
   "metadata": {
    "id": "fa-oKfAGJVJ4"
   },
   "source": [
    "# **SI649 W23 Altair Homework #4**\n",
    "## Overview \n",
    "\n",
    "We'll focus on maps and cartrographic visualization. In this lab, you will practice:\n",
    "* Point Maps\n",
    "* Symbol Maps\n",
    "* Choropleth maps\n",
    "* Interactions with maps\n",
    "\n",
    "\n",
    "### Lab Instructions\n",
    "\n",
    "*   Save, rename, and submit the ipynb file (use your username in the name).\n",
    "*   Complete all the checkpoints, to create the required visualization at each cell.\n",
    "*   Run every cell (do Runtime -> Restart and run all to make sure you have a clean working version), print to pdf, submit the pdf file. \n",
    "*   If you end up stuck, show us your work by including links (URLs) that you have searched for. You'll get partial credit for showing your work in progress."
   ]
  },
  {
   "cell_type": "code",
   "execution_count": 4,
   "metadata": {
    "id": "yGIpA88HQ-B8"
   },
   "outputs": [],
   "source": [
    "import pandas as pd\n",
    "import altair as alt\n",
    "from vega_datasets import data\n",
    "\n",
    "alt.data_transformers.disable_max_rows()\n",
    "\n",
    "df = pd.read_csv('https://raw.githubusercontent.com/dallascard/si649_public/main/altair_hw4/airports.csv')\n",
    "url = \"https://raw.githubusercontent.com/dallascard/si649_public/main/altair_hw4/small-airports.json\"\n"
   ]
  },
  {
   "cell_type": "markdown",
   "metadata": {
    "id": "uv6v02YmV-4l"
   },
   "source": [
    "## Visualization 1: Dot Density Map "
   ]
  },
  {
   "cell_type": "markdown",
   "metadata": {
    "id": "UkYsV1kLZ_88"
   },
   "source": [
    "![vis1](https://raw.githubusercontent.com/dallascard/SI649_public/main/altair_hw4/dot_density.png)\n",
    "**Description of the visualization:**\n",
    "\n",
    "We want to visualize the density of small airports in the world. Each small airport is represented by a dot. \n",
    "The visualization has two layers:\n",
    "* The base layer shows the outline of the world map. \n",
    "* The point map shows different small airports. \n",
    "* The tooltip shows the **name** of the airport. \n",
    "\n",
    "**Hint:**\n",
    "* How can we show continents on the map? Which object can be used from the json dataset ?\n",
    "* How can we show only small airports on the map?"
   ]
  },
  {
   "cell_type": "code",
   "execution_count": null,
   "metadata": {
    "id": "xzXW7zBPRIQQ"
   },
   "outputs": [],
   "source": [
    "# TODO: Vis 1"
   ]
  },
  {
   "cell_type": "markdown",
   "metadata": {
    "id": "l2WEKGA_exqE"
   },
   "source": [
    "## Visualization 2: Propotional Symbol "
   ]
  },
  {
   "cell_type": "markdown",
   "metadata": {
    "id": "5KH5o3Pxe_5G"
   },
   "source": [
    "![vis2](https://raw.githubusercontent.com/dallascard/SI649_public/main/altair_hw4/symbol_map.png)\n",
    "**Description of the visualization:**\n",
    "\n",
    "The visualization shows faceted maps pointing the 20 most populous cities in the world by 2100. There are two layers in faceted charts:\n",
    "* The base layer shows the map of countries. \n",
    "* The second layer shows size encoded points indicating the population of those countries.\n",
    "* Tooltip shows **city** name and **population**. \n",
    "\n",
    "**Hint:**\n",
    "* Which projection has been used in individual charts?\n",
    "* How to create a faceted chart with different years and 2 columns?"
   ]
  },
  {
   "cell_type": "code",
   "execution_count": 8,
   "metadata": {
    "id": "7iM2ickxd-GM"
   },
   "outputs": [],
   "source": [
    "countries_url = data.world_110m.url\n",
    "source = 'https://raw.githubusercontent.com/dallascard/SI649_public/main/altair_hw4/population_prediction.csv'"
   ]
  },
  {
   "cell_type": "code",
   "execution_count": null,
   "metadata": {
    "id": "f32SU2xyg5f3"
   },
   "outputs": [],
   "source": [
    "# TODO: Vis 2"
   ]
  },
  {
   "cell_type": "markdown",
   "metadata": {
    "id": "NfBu-VrnhHnC"
   },
   "source": [
    "## Visualization 3: Hurricane Trajectories\n",
    "\n",
    "\n"
   ]
  },
  {
   "cell_type": "markdown",
   "metadata": {
    "id": "_FomF8xikPsf"
   },
   "source": [
    "![vis3](https://raw.githubusercontent.com/dallascard/SI649_public/main/altair_hw4/hurricane_trajectories.png)\n",
    "**Description of the visualization:**\n",
    "\n",
    "Create a map that shows the paths (trajectories) of the 2017 hurricanes. Filter the data so that only 2017 hurricanes are shown. Remove Alaska and Hawaii from the map (Filter out ids 2 and 15).\n",
    "\n",
    "**Hint:**\n",
    "* How will you filter out 2017 hurricanes?\n",
    "* Which object can be used to show state boundaries?"
   ]
  },
  {
   "cell_type": "code",
   "execution_count": 9,
   "metadata": {
    "colab": {
     "base_uri": "https://localhost:8080/",
     "height": 143
    },
    "id": "Ys7WmWkehIiq",
    "outputId": "b113be83-c366-43e5-83cc-29fb982294d2"
   },
   "outputs": [
    {
     "data": {
      "text/html": [
       "<div>\n",
       "<style scoped>\n",
       "    .dataframe tbody tr th:only-of-type {\n",
       "        vertical-align: middle;\n",
       "    }\n",
       "\n",
       "    .dataframe tbody tr th {\n",
       "        vertical-align: top;\n",
       "    }\n",
       "\n",
       "    .dataframe thead th {\n",
       "        text-align: right;\n",
       "    }\n",
       "</style>\n",
       "<table border=\"1\" class=\"dataframe\">\n",
       "  <thead>\n",
       "    <tr style=\"text-align: right;\">\n",
       "      <th></th>\n",
       "      <th>identifier</th>\n",
       "      <th>name</th>\n",
       "      <th>num_pts</th>\n",
       "      <th>record_id</th>\n",
       "      <th>status</th>\n",
       "      <th>latitude</th>\n",
       "      <th>longitude</th>\n",
       "      <th>max_wind</th>\n",
       "      <th>min_pressure</th>\n",
       "      <th>datetime</th>\n",
       "    </tr>\n",
       "  </thead>\n",
       "  <tbody>\n",
       "    <tr>\n",
       "      <th>14756</th>\n",
       "      <td>AL091924</td>\n",
       "      <td>UNNAMED</td>\n",
       "      <td>16</td>\n",
       "      <td>NaN</td>\n",
       "      <td>TS</td>\n",
       "      <td>23.7</td>\n",
       "      <td>-93.2</td>\n",
       "      <td>50</td>\n",
       "      <td>-999</td>\n",
       "      <td>1924-10-13T18:00:00</td>\n",
       "    </tr>\n",
       "    <tr>\n",
       "      <th>13601</th>\n",
       "      <td>AL061918</td>\n",
       "      <td>UNNAMED</td>\n",
       "      <td>23</td>\n",
       "      <td>NaN</td>\n",
       "      <td>TS</td>\n",
       "      <td>16.4</td>\n",
       "      <td>-67.5</td>\n",
       "      <td>35</td>\n",
       "      <td>-999</td>\n",
       "      <td>1918-09-11T00:00:00</td>\n",
       "    </tr>\n",
       "    <tr>\n",
       "      <th>42077</th>\n",
       "      <td>AL172001</td>\n",
       "      <td>OLGA</td>\n",
       "      <td>47</td>\n",
       "      <td>NaN</td>\n",
       "      <td>TS</td>\n",
       "      <td>30.3</td>\n",
       "      <td>-55.3</td>\n",
       "      <td>60</td>\n",
       "      <td>979</td>\n",
       "      <td>2001-11-26T00:00:00</td>\n",
       "    </tr>\n",
       "  </tbody>\n",
       "</table>\n",
       "</div>"
      ],
      "text/plain": [
       "      identifier     name  num_pts record_id status  latitude  longitude  \\\n",
       "14756   AL091924  UNNAMED       16       NaN     TS      23.7      -93.2   \n",
       "13601   AL061918  UNNAMED       23       NaN     TS      16.4      -67.5   \n",
       "42077   AL172001     OLGA       47       NaN     TS      30.3      -55.3   \n",
       "\n",
       "       max_wind  min_pressure             datetime  \n",
       "14756        50          -999  1924-10-13T18:00:00  \n",
       "13601        35          -999  1918-09-11T00:00:00  \n",
       "42077        60           979  2001-11-26T00:00:00  "
      ]
     },
     "execution_count": 9,
     "metadata": {},
     "output_type": "execute_result"
    }
   ],
   "source": [
    "states_url = data.us_10m.url\n",
    "hurricane_data = pd.read_csv('https://raw.githubusercontent.com/dallascard/SI649_public/main/altair_hw4/hurdat2.csv')\n",
    "hurricane_data.sample(3)"
   ]
  },
  {
   "cell_type": "code",
   "execution_count": null,
   "metadata": {
    "id": "qPWSAyK5hJIM"
   },
   "outputs": [],
   "source": [
    "#TODO: Vis 3"
   ]
  },
  {
   "cell_type": "markdown",
   "metadata": {
    "id": "THt5rNljlQ9u"
   },
   "source": [
    "## Visualization 4: Choropleth Map\n"
   ]
  },
  {
   "cell_type": "markdown",
   "metadata": {
    "id": "gPTohRLO3Vw3"
   },
   "source": [
    "![vis4](https://raw.githubusercontent.com/dallascard/SI649_public/main/altair_hw4/choropleth.png)\n",
    "\n",
    "**Interaction**\n",
    "\n",
    "![vis4](https://raw.githubusercontent.com/dallascard/SI649_public/main/altair_hw4/choropleth-interaction.gif)\n",
    "\n",
    "**Description of the visualization:**\n",
    "\n",
    "The visualization has a choropleth map showing the population of different states and a sorted bar chart showing the top 15 states by population. These charts are connected using a click interaction. \n",
    "\n",
    "**Hint**\n",
    "\n",
    "* Which object can be used to show states on the map?\n",
    "* Which transform can be used to add population data to the geographic data? How can we combine two datasets in Altair?\n",
    "\n"
   ]
  },
  {
   "cell_type": "code",
   "execution_count": 7,
   "metadata": {
    "colab": {
     "base_uri": "https://localhost:8080/",
     "height": 206
    },
    "id": "xi-TPXRn4Xpr",
    "outputId": "24f8853c-46ac-4638-b3ae-d6f71499e3fa"
   },
   "outputs": [
    {
     "data": {
      "text/html": [
       "<div>\n",
       "<style scoped>\n",
       "    .dataframe tbody tr th:only-of-type {\n",
       "        vertical-align: middle;\n",
       "    }\n",
       "\n",
       "    .dataframe tbody tr th {\n",
       "        vertical-align: top;\n",
       "    }\n",
       "\n",
       "    .dataframe thead th {\n",
       "        text-align: right;\n",
       "    }\n",
       "</style>\n",
       "<table border=\"1\" class=\"dataframe\">\n",
       "  <thead>\n",
       "    <tr style=\"text-align: right;\">\n",
       "      <th></th>\n",
       "      <th>state</th>\n",
       "      <th>id</th>\n",
       "      <th>population</th>\n",
       "    </tr>\n",
       "  </thead>\n",
       "  <tbody>\n",
       "    <tr>\n",
       "      <th>31</th>\n",
       "      <td>New Mexico</td>\n",
       "      <td>35</td>\n",
       "      <td>2081015</td>\n",
       "    </tr>\n",
       "    <tr>\n",
       "      <th>19</th>\n",
       "      <td>Maine</td>\n",
       "      <td>23</td>\n",
       "      <td>1331479</td>\n",
       "    </tr>\n",
       "    <tr>\n",
       "      <th>37</th>\n",
       "      <td>Oregon</td>\n",
       "      <td>41</td>\n",
       "      <td>4093465</td>\n",
       "    </tr>\n",
       "    <tr>\n",
       "      <th>10</th>\n",
       "      <td>Georgia</td>\n",
       "      <td>13</td>\n",
       "      <td>10310371</td>\n",
       "    </tr>\n",
       "    <tr>\n",
       "      <th>8</th>\n",
       "      <td>District of Columbia</td>\n",
       "      <td>11</td>\n",
       "      <td>681170</td>\n",
       "    </tr>\n",
       "  </tbody>\n",
       "</table>\n",
       "</div>"
      ],
      "text/plain": [
       "                   state  id  population\n",
       "31            New Mexico  35     2081015\n",
       "19                 Maine  23     1331479\n",
       "37                Oregon  41     4093465\n",
       "10               Georgia  13    10310371\n",
       "8   District of Columbia  11      681170"
      ]
     },
     "execution_count": 7,
     "metadata": {},
     "output_type": "execute_result"
    }
   ],
   "source": [
    "state_map = data.us_10m.url\n",
    "state_pop = data.population_engineers_hurricanes()[['state', 'id', 'population']]\n",
    "state_pop.sample(5)"
   ]
  },
  {
   "cell_type": "code",
   "execution_count": null,
   "metadata": {
    "id": "NhoJEB1a5ZYq"
   },
   "outputs": [],
   "source": [
    "# TODO: Vis 4 "
   ]
  }
 ],
 "metadata": {
  "colab": {
   "provenance": []
  },
  "kernelspec": {
   "display_name": "Python 3 (ipykernel)",
   "language": "python",
   "name": "python3"
  },
  "language_info": {
   "codemirror_mode": {
    "name": "ipython",
    "version": 3
   },
   "file_extension": ".py",
   "mimetype": "text/x-python",
   "name": "python",
   "nbconvert_exporter": "python",
   "pygments_lexer": "ipython3",
   "version": "3.11.7"
  }
 },
 "nbformat": 4,
 "nbformat_minor": 4
}
