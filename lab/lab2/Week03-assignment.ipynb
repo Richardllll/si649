{
 "cells": [
  {
   "cell_type": "markdown",
   "id": "ce73eba3",
   "metadata": {},
   "source": [
    "# Weekly Assignment 2: matplotlib\n"
   ]
  },
  {
   "cell_type": "markdown",
   "id": "80c9d200-7893-4f61-9e3f-685d35b5d62a",
   "metadata": {},
   "source": [
    "### Overall instructions:\n",
    "\n",
    "There are four tasks as part of this assignment, all described in this notebook.\n",
    "\n",
    "For parts 1, 2, and 4, you will write code in this notebook, each of which will create a plot.\n",
    "\n",
    "For part 3, you must paste a URL, which will point to the page you create using github pages.\n",
    "\n",
    "To submit, please run all cells in this notebook, save it as an HTML or PDF file, and upload both the html/pdf file AND the .ipynb file (this notebook) to Canvas. To save the notebook as an html/pdf file, select the File menu from within the notebook itself, and choose \"Save and Export Notebook As\", and then choose the desired format.\n",
    "\n",
    "In addition, for Part 4, you will need to upload a zipfile as described in that section.\n",
    "\n",
    "In summary, you should submit:\n",
    "- this notebook as a .ipynb file\n",
    "- this notebook exported as an HTML or PDF file\n",
    "- a zipfile as described in Part 4\n",
    "\n",
    "Please note: it is your responsibility to make sure that you submit the approprite files, and that your code works when you submit. To make sure things are working, we recommend you use Kernel > Restart Kernel, and then Run > Run All Cells, before you export or upload your submission. If you are missing files, or your code does not run properly, points will be deducted.\n"
   ]
  },
  {
   "cell_type": "markdown",
   "id": "fea9a942-c92d-4bdf-b7bb-b4e2c35331a7",
   "metadata": {},
   "source": [
    "## Task 1\n",
    "\n",
    "Please use this notebook to show your work in recreating the first visualizations from the second part of the first lab (the Tableau lab). Specifically, please try to reproduce the first figure (The Bechdel Test Over Time) from this article as closely as you can: https://fivethirtyeight.com/features/the-dollar-and-cents-case-against-hollywoods-exclusion-of-women/"
   ]
  },
  {
   "cell_type": "markdown",
   "id": "9cceeeb8-68cb-4a9f-9838-6021c1f1e2b9",
   "metadata": {},
   "source": [
    "Target figure:\n",
    "\n",
    "![1.1](https://raw.githubusercontent.com/dallascard/SI649_public/master/matplotlib_hw1/betchdel.png)"
   ]
  },
  {
   "cell_type": "code",
   "execution_count": 12,
   "id": "1d32c565",
   "metadata": {},
   "outputs": [],
   "source": [
    "import matplotlib.pyplot as plt\n",
    "\n",
    "import numpy as np\n",
    "import pandas as pd\n"
   ]
  },
  {
   "cell_type": "code",
   "execution_count": 13,
   "id": "177e7003",
   "metadata": {},
   "outputs": [],
   "source": [
    "# Load the data from movies_independent_part_2.csv using pandas\n",
    "\n"
   ]
  },
  {
   "cell_type": "code",
   "execution_count": 14,
   "id": "7e40e37b",
   "metadata": {},
   "outputs": [],
   "source": [
    "# Create the first visualization (The Bechdel Test Over Time)\n",
    "# You are free to use any workflow you like, but some suggested steps are given below:"
   ]
  },
  {
   "cell_type": "code",
   "execution_count": 15,
   "id": "6be73bdb",
   "metadata": {},
   "outputs": [],
   "source": [
    "# Suggested steps:\n",
    "\n",
    "# 1. Inspect the data to see if you need to worry about NaNs, etc.\n"
   ]
  },
  {
   "cell_type": "code",
   "execution_count": 16,
   "id": "54ca587d",
   "metadata": {},
   "outputs": [],
   "source": [
    "# 2. For each year, count the number of films with each test result\n"
   ]
  },
  {
   "cell_type": "code",
   "execution_count": 17,
   "id": "eb1611f6",
   "metadata": {},
   "outputs": [],
   "source": [
    "# 3. Combine the counts into the 5-year buckets used in the visualization\n"
   ]
  },
  {
   "cell_type": "code",
   "execution_count": 18,
   "id": "f7dda699",
   "metadata": {},
   "outputs": [],
   "source": [
    "# 4. Convert the counts per bucket into percentages\n"
   ]
  },
  {
   "cell_type": "code",
   "execution_count": 19,
   "id": "31255638",
   "metadata": {},
   "outputs": [],
   "source": [
    "# 5. Create a new plot using plt.subplots()\n",
    "# For each category, add a set of bars using ax.bar()\n",
    "# Note that you can accomplish the stacking by telling it where to start using the \"bottom\" parameter"
   ]
  },
  {
   "cell_type": "code",
   "execution_count": 20,
   "id": "2ded3f7f",
   "metadata": {},
   "outputs": [],
   "source": [
    "# fix up the colors, tick marks, and add the title"
   ]
  },
  {
   "cell_type": "code",
   "execution_count": 21,
   "id": "1e16b595",
   "metadata": {},
   "outputs": [],
   "source": [
    "# manually add the text on the plot"
   ]
  },
  {
   "cell_type": "code",
   "execution_count": 22,
   "id": "a235c16c",
   "metadata": {},
   "outputs": [],
   "source": [
    "# manually add the text labels used in the original (or optionally, create a regular legend, and place it off to the side using the bbox_to_anchor parameter)"
   ]
  },
  {
   "cell_type": "code",
   "execution_count": 23,
   "id": "b0f275e4",
   "metadata": {},
   "outputs": [],
   "source": [
    "# 6. Add any finishing touches"
   ]
  },
  {
   "cell_type": "markdown",
   "id": "dd5b6b19-59ef-4bee-bd64-3fe718e57554",
   "metadata": {},
   "source": [
    "## Task 2: Improving the style of a figure\n",
    "\n",
    "Here, we will create a basic bar chart for you. Your job is to make it look like the target image we will provide below. Please try to get as close as possible to the target image! If you can't figure something out, try searching online and/or read the matplotlib documentation."
   ]
  },
  {
   "cell_type": "code",
   "execution_count": 24,
   "id": "4fe45d7d-4c36-4473-8174-06ee4a52d7b8",
   "metadata": {},
   "outputs": [
    {
     "data": {
      "text/html": [
       "<div>\n",
       "<style scoped>\n",
       "    .dataframe tbody tr th:only-of-type {\n",
       "        vertical-align: middle;\n",
       "    }\n",
       "\n",
       "    .dataframe tbody tr th {\n",
       "        vertical-align: top;\n",
       "    }\n",
       "\n",
       "    .dataframe thead th {\n",
       "        text-align: right;\n",
       "    }\n",
       "</style>\n",
       "<table border=\"1\" class=\"dataframe\">\n",
       "  <thead>\n",
       "    <tr style=\"text-align: right;\">\n",
       "      <th></th>\n",
       "      <th>condition</th>\n",
       "      <th>ROR</th>\n",
       "      <th>lowCI</th>\n",
       "      <th>highCI</th>\n",
       "      <th>Total</th>\n",
       "      <th>base_rate</th>\n",
       "      <th>Case</th>\n",
       "      <th>increased_rate</th>\n",
       "      <th>pop_estimate</th>\n",
       "      <th>ratio</th>\n",
       "    </tr>\n",
       "  </thead>\n",
       "  <tbody>\n",
       "    <tr>\n",
       "      <th>0</th>\n",
       "      <td>Abnormal behavior</td>\n",
       "      <td>33.9</td>\n",
       "      <td>31.8</td>\n",
       "      <td>36.2</td>\n",
       "      <td>28421</td>\n",
       "      <td>0.002929</td>\n",
       "      <td>1036</td>\n",
       "      <td>0.106042</td>\n",
       "      <td>9769.684326</td>\n",
       "      <td>0.036452</td>\n",
       "    </tr>\n",
       "    <tr>\n",
       "      <th>1</th>\n",
       "      <td>Aggression</td>\n",
       "      <td>31.7</td>\n",
       "      <td>29.8</td>\n",
       "      <td>33.8</td>\n",
       "      <td>32013</td>\n",
       "      <td>0.003300</td>\n",
       "      <td>1089</td>\n",
       "      <td>0.111526</td>\n",
       "      <td>9764.578604</td>\n",
       "      <td>0.034017</td>\n",
       "    </tr>\n",
       "    <tr>\n",
       "      <th>2</th>\n",
       "      <td>Anger</td>\n",
       "      <td>24.8</td>\n",
       "      <td>22.8</td>\n",
       "      <td>27.0</td>\n",
       "      <td>21031</td>\n",
       "      <td>0.002168</td>\n",
       "      <td>589</td>\n",
       "      <td>0.058527</td>\n",
       "      <td>10063.760857</td>\n",
       "      <td>0.028006</td>\n",
       "    </tr>\n",
       "    <tr>\n",
       "      <th>3</th>\n",
       "      <td>Suicidal thoughts</td>\n",
       "      <td>21.5</td>\n",
       "      <td>20.3</td>\n",
       "      <td>22.9</td>\n",
       "      <td>52853</td>\n",
       "      <td>0.005448</td>\n",
       "      <td>1222</td>\n",
       "      <td>0.124749</td>\n",
       "      <td>9795.684324</td>\n",
       "      <td>0.023121</td>\n",
       "    </tr>\n",
       "    <tr>\n",
       "      <th>4</th>\n",
       "      <td>Crying</td>\n",
       "      <td>19.9</td>\n",
       "      <td>18.2</td>\n",
       "      <td>21.7</td>\n",
       "      <td>23462</td>\n",
       "      <td>0.002418</td>\n",
       "      <td>533</td>\n",
       "      <td>0.052475</td>\n",
       "      <td>10157.133150</td>\n",
       "      <td>0.022718</td>\n",
       "    </tr>\n",
       "  </tbody>\n",
       "</table>\n",
       "</div>"
      ],
      "text/plain": [
       "           condition   ROR  lowCI  highCI  Total  base_rate  Case  \\\n",
       "0  Abnormal behavior  33.9   31.8    36.2  28421   0.002929  1036   \n",
       "1         Aggression  31.7   29.8    33.8  32013   0.003300  1089   \n",
       "2              Anger  24.8   22.8    27.0  21031   0.002168   589   \n",
       "3  Suicidal thoughts  21.5   20.3    22.9  52853   0.005448  1222   \n",
       "4             Crying  19.9   18.2    21.7  23462   0.002418   533   \n",
       "\n",
       "   increased_rate  pop_estimate     ratio  \n",
       "0        0.106042   9769.684326  0.036452  \n",
       "1        0.111526   9764.578604  0.034017  \n",
       "2        0.058527  10063.760857  0.028006  \n",
       "3        0.124749   9795.684324  0.023121  \n",
       "4        0.052475  10157.133150  0.022718  "
      ]
     },
     "execution_count": 24,
     "metadata": {},
     "output_type": "execute_result"
    }
   ],
   "source": [
    "# Load the data\n",
    "df = pd.read_csv('data.csv', header=0, index_col=None)\n",
    "df.head()"
   ]
  },
  {
   "cell_type": "code",
   "execution_count": 25,
   "id": "da67b1c9-9056-4ed8-8f18-c0cb37908e51",
   "metadata": {},
   "outputs": [
    {
     "data": {
      "image/png": "[encoded data removed]",
      "text/plain": [
       "<Figure size 640x480 with 1 Axes>"
      ]
     },
     "metadata": {},
     "output_type": "display_data"
    }
   ],
   "source": [
    "# Plot a basic bar chart with default stylings\n",
    "\n",
    "fig, ax = plt.subplots()\n",
    "ax.barh(df['condition'], df['ROR'])\n",
    "plt.show();\n",
    "\n"
   ]
  },
  {
   "cell_type": "markdown",
   "id": "bc79631a-87da-4bfd-b74a-f2223ad14e95",
   "metadata": {},
   "source": [
    "This data is also plotted in a New York Times article (available here: https://www.nytimes.com/2024/01/09/health/fda-singulair-asthma-drug-warning.html), but with nicer aesthetics.\n",
    "\n",
    "Here is the target image:\n",
    "\n",
    "![1.1](https://raw.githubusercontent.com/dallascard/SI649_public/master/matplotlib_hw1/montelukast.png)"
   ]
  },
  {
   "cell_type": "markdown",
   "id": "43ad0b41-0f99-49a9-8f4e-fea8a281d155",
   "metadata": {},
   "source": [
    "Your job is to write matplotlib code to create the New York Times chart (or as close as you can get).\n",
    "\n",
    "Remember when you are done to run all cells, and upload your notebook to Canvas\n",
    "\n"
   ]
  },
  {
   "cell_type": "code",
   "execution_count": 26,
   "id": "62f1a571-b7fc-4d4e-be3b-bab21d5e8637",
   "metadata": {},
   "outputs": [],
   "source": [
    "# Your code goes here"
   ]
  },
  {
   "cell_type": "markdown",
   "id": "1e258a9b-43fb-48fa-a9c6-14db2707eb7d",
   "metadata": {},
   "source": [
    "## Task 3: Github Pages\n",
    "\n",
    "Using the instructions provided in the lab, create a github page (using github pages). Embed both of the above images you have made on that page, and submit a link to it. (Please make sure everything is set to be public).\n"
   ]
  },
  {
   "cell_type": "markdown",
   "id": "65113309-087e-421f-91c0-39dcf60bb963",
   "metadata": {},
   "source": [
    "### Put the link to your page with the two figures above here:\n",
    "\n",
    "`<Insert URL>`"
   ]
  },
  {
   "cell_type": "markdown",
   "id": "4bee650d-2f34-4a0d-931f-4e3140c12e83",
   "metadata": {},
   "source": [
    "## Task 4: ChatGPT\n",
    "\n",
    "For the last part of this assignment, we want you to experiment with using generative AI to make complex visualizations.\n",
    "\n",
    "You should all have access to UM GPT (available here: https://umgpt.umich.edu/)\n",
    "\n",
    "We want you to use UM GPT to try recreating (in matplotlib) the famous Napoleon's March figure by Minard, as shown below:\n",
    "\n",
    "\n",
    "![1.1](https://raw.githubusercontent.com/dallascard/SI649_public/master/matplotlib_hw1/minard.jpg)"
   ]
  },
  {
   "cell_type": "markdown",
   "id": "d6632a55-b8ab-4a6f-856b-f017280ecd22",
   "metadata": {},
   "source": [
    "Here are the steps we want you to follow in detail:\n",
    "1. Using Chrome or Firefox, spend some time working with UM GPT, and see how well it is able to recreate the above figure, specifically using **matplotlib**. (You may find this challenging, but see how close you can get). Note that you may need to copy and paste the code into a notebook to see how well it is working.\n",
    "2. When you are satisfied with your result, **paste the code that generates the final figure in the cell below, and run it**.\n",
    "3. In addition, **save your UM GPT chat** to disk. Using your browser, select File > Save Page As..., and choose \"Web Page, complete\"\n",
    "4. Try opening the .html file it saves, to make sure it shows your full chat history.\n",
    "5. **Zip the files that it creates** (this should be one file with a .html extension, and a folder with approximately the same name).\n",
    "6. Upload to Canvas the zipfile of your chat history, as well as this notebook, and a copy of this notebook saved as an .html file (see above)\n",
    "\n",
    "Note that this question is more about effort than about getting everything perfect. Please put some thought into this, and get a sense of what works and what doesn't. However, we will also have a contest to see who is able to get the closest to the original image!\n",
    "\n",
    "(If you would rather use another system other than UM GPT, that is okay. However, you need to be able to export your chat history somehow, which is not enabled by default in some of the best known systems (e.g., ChatGPT). If you can find a way to export your chat history, then you are welcome to use whichever generative AI system you like. However, please do not upload or provide any code to the system you use. See how far you can get just by coaxing it into doing what you want. In addition, the code it generates **must use matplotlib to create the figure**)."
   ]
  },
  {
   "cell_type": "code",
   "execution_count": 27,
   "id": "a9c7b7bb-c7bd-4692-b95e-51b87eca4dcc",
   "metadata": {},
   "outputs": [],
   "source": [
    "# Your final code goes here:\n"
   ]
  },
  {
   "cell_type": "code",
   "execution_count": null,
   "id": "ce9992ef-582d-45b2-be2c-636865114d4f",
   "metadata": {},
   "outputs": [],
   "source": []
  },
  {
   "cell_type": "code",
   "execution_count": null,
   "id": "44d8d960-197c-4ca1-b476-9b8e98bccac3",
   "metadata": {},
   "outputs": [],
   "source": []
  }
 ],
 "metadata": {
  "kernelspec": {
   "display_name": "Python 3 (ipykernel)",
   "language": "python",
   "name": "python3"
  },
  "language_info": {
   "codemirror_mode": {
    "name": "ipython",
    "version": 3
   },
   "file_extension": ".py",
   "mimetype": "text/x-python",
   "name": "python",
   "nbconvert_exporter": "python",
   "pygments_lexer": "ipython3",
   "version": "3.11.11"
  }
 },
 "nbformat": 4,
 "nbformat_minor": 5
}
